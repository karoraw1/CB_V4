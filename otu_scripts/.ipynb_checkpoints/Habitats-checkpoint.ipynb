{
 "cells": [
  {
   "cell_type": "code",
   "execution_count": null,
   "metadata": {},
   "outputs": [],
   "source": [
    "library(FactoMineR)\n",
    "library(factoextra)\n",
    "library(corrplot)\n",
    "library(NbClust)\n",
    "library(cluster)\n",
    "library(repr)\n",
    "options(repr.plot.width=4, repr.plot.height=4)\n",
    "library(randomForest)\n",
    "library(mlbench)\n",
    "library(caret)\n"
   ]
  },
  {
   "cell_type": "code",
   "execution_count": null,
   "metadata": {},
   "outputs": [],
   "source": [
    "all_data_f = \"../otu_data/WaterQualityData/matched_cleaned_data/all_mdata_colset_2.tsv\"\n",
    "all_df <- read.delim(all_data_f, row.names=1)\n",
    "transect_data_f = \"../otu_data/WaterQualityData/matched_cleaned_data/transect_mdata_colset_1.tsv\"\n",
    "tran_df <- read.delim(transect_data_f, row.names=1)\n",
    "print(dim(tran_df))\n",
    "print(dim(all_df))"
   ]
  },
  {
   "cell_type": "code",
   "execution_count": null,
   "metadata": {},
   "outputs": [],
   "source": [
    "active_tran = c('WTEMP', 'SPCOND', 'DO', 'DOP', 'NO2F', 'PC', 'PHEO', 'NO3F', 'NH4F', 'TP', 'CHLA')\n",
    "active_all = c(\"WTEMP\", \"SALINITY\", \"DO\", \"PH\")\n",
    "\n",
    "all_active <- all_df[,active_all]\n",
    "tran_active <- tran_df[,active_tran]\n",
    "\n",
    "print(dim(all_active))\n",
    "print(dim(tran_active))\n",
    "print(colnames(tran_df))"
   ]
  },
  {
   "cell_type": "code",
   "execution_count": null,
   "metadata": {},
   "outputs": [],
   "source": [
    "res.pca <- PCA(tran_active, graph = FALSE)\n",
    "fviz_eig(res.pca, addlabels = TRUE, ylim = c(0, 50))"
   ]
  },
  {
   "cell_type": "code",
   "execution_count": null,
   "metadata": {},
   "outputs": [],
   "source": [
    "fviz_pca_var(res.pca, axes = c(1, 2), col.var = \"black\")\n"
   ]
  },
  {
   "cell_type": "code",
   "execution_count": null,
   "metadata": {},
   "outputs": [],
   "source": [
    "fviz_pca_var(res.pca, axes = c(3, 4), col.var = \"black\")"
   ]
  },
  {
   "cell_type": "code",
   "execution_count": null,
   "metadata": {},
   "outputs": [],
   "source": [
    "options(repr.plot.width=6, repr.plot.height=4)\n",
    "var <- get_pca_var(res.pca)\n",
    "corrplot(t(var$contrib), is.corr=FALSE)"
   ]
  },
  {
   "cell_type": "code",
   "execution_count": null,
   "metadata": {},
   "outputs": [],
   "source": [
    "tran_active_sc <- scale(tran_active)\n",
    "number <- NbClust(tran_active_sc, distance=\"euclidean\", min.nc=2, max.nc=15, method='ward.D2', index='all')"
   ]
  },
  {
   "cell_type": "code",
   "execution_count": null,
   "metadata": {},
   "outputs": [],
   "source": [
    "pam.res <- pam(tran_active_sc, 3, diss=FALSE, metric='euclidean')\n",
    "fviz_pca_ind(res.pca,\n",
    "             geom.ind = \"point\", # show points only (nbut not \"text\")\n",
    "             col.ind = as.factor(pam.res$clustering), # color by groups\n",
    "             palette = c(\"#00AFBB\", \"#E7B800\", \"#FC4E07\"),\n",
    "             addEllipses = TRUE, ellipse.type = \"convex\",# Concentration ellipses\n",
    "             legend.title = \"Groups\")"
   ]
  },
  {
   "cell_type": "code",
   "execution_count": null,
   "metadata": {},
   "outputs": [],
   "source": [
    "options(repr.plot.width=6, repr.plot.height=4)\n",
    "fviz_pca_biplot(res.pca, label =\"var\", col.var = \"black\",\n",
    "                geom.ind = \"point\", # show points only (nbut not \"text\")\n",
    "                col.ind = tran_df[,'Depth_Percentage'], # color by groups\n",
    "                gradient.cols = c(\"#00AFBB\", \"#E7B800\", \"#FC4E07\"),\n",
    "                legend.title = \"Pct of Total Depth\",\n",
    "                select.var = list(name = c('SPCOND', 'PHEO', 'WTEMP', 'NO2F', 'TP', 'NO3F', 'DO')),\n",
    "                repel = TRUE)\n"
   ]
  },
  {
   "cell_type": "code",
   "execution_count": null,
   "metadata": {},
   "outputs": [],
   "source": [
    "# extract the classification\n",
    "n_clusts = length(unique(pam.res$clustering))\n",
    "habitat = as.data.frame(pam.res$clustering)\n",
    "colnames(habitat) <- 'HABITAT'\n",
    "habitat$HABITAT <- factor(habitat$HABITAT)\n",
    "\n",
    "# add a few more variables of interest\n",
    "active_tran_plus = c(active_tran, 'day_length', 'Depth_Percentage', 'Latitude')\n",
    "tran_active_plus =  tran_df[rownames(habitat), active_tran_plus]\n",
    "\n",
    "mean_cols = vector(length=n_clusts); iqr_cols = vector(length=n_clusts)\n",
    "for (i in 1:n_clusts){\n",
    "    mean_cols[[i]] = paste(as.character(i), \"Med\")\n",
    "    iqr_cols[[i]] = paste(as.character(i), \"IQR\", sep = \"-\")\n",
    "    }\n",
    "\n",
    "clust_med = aggregate(x=tran_active_plus, by=habitat, FUN=median)\n",
    "print(mean_cols)\n",
    "rownames(clust_med) <- mean_cols\n",
    "\n",
    "clust_sd = aggregate(x=tran_active_plus, by=habitat, FUN=IQR)\n",
    "print(iqr_cols)\n",
    "rownames(clust_sd) <- iqr_cols\n",
    "\n",
    "clust_data = rbind(clust_med, clust_sd)\n",
    "\n",
    "clust_data[,1] <- NULL\n",
    "for (cn in colnames(clust_data)){\n",
    "    clust_data[mean_cols,cn] = round(((clust_data[mean_cols,cn]-mean(tran_active_plus[,cn]))/sd(tran_active_plus[,cn])), 2)\n",
    "    clust_data[iqr_cols,cn] = round((clust_data[iqr_cols,cn])/sd(tran_active_plus[,cn]), 2)\n",
    "    clust_data['separation',cn] <- sum(abs(clust_data[mean_cols,cn]))\n",
    "}\n",
    "\n",
    "clust_data_t = as.data.frame(t(clust_data[sort(rownames(clust_data)),]))\n",
    "print(sum(clust_data_t$separation))\n",
    "clust_data_t[order(-clust_data_t$separation),]\n"
   ]
  },
  {
   "cell_type": "code",
   "execution_count": null,
   "metadata": {},
   "outputs": [],
   "source": [
    "habitat = pam.res$clustering\n",
    "active_all = c('WTEMP', 'SALINITY', 'DO', 'PH', \"Latitude\", 'Depth_Percentage')\n",
    "test_rows <- setdiff(rownames(all_df), names(habitat))\n",
    "print(c(length(test_rows), length(rownames(all_df)), length(names(habitat))))\n",
    "test_dataset <- all_df[test_rows, active_all]\n",
    "all_in_tran = all_df[names(habitat), active_all] \n",
    "simple_dataset = cbind(all_in_tran, factor(habitat))\n",
    "colnames(simple_dataset) <- c(active_all, 'HABITAT')\n",
    "\n",
    "print(str(simple_dataset))\n",
    "print(str(test_dataset))"
   ]
  },
  {
   "cell_type": "code",
   "execution_count": null,
   "metadata": {},
   "outputs": [],
   "source": [
    "control <- trainControl(method=\"repeatedcv\", number=10, repeats=2)\n",
    "tunegrid <- expand.grid(.mtry=c(1:5))\n",
    "modellist <- list()\n",
    "set.seed(04)\n",
    "fit <- train(HABITAT~., data=simple_dataset, method=\"rf\", metric='Accuracy',\n",
    "             tuneGrid=tunegrid, trControl=control, ntree=1500)\n",
    "#print(fit)\n",
    "attributes(fit)"
   ]
  },
  {
   "cell_type": "code",
   "execution_count": null,
   "metadata": {},
   "outputs": [],
   "source": [
    "fit$results[max(fit$results[,c(2)]) == fit$results[,c(2)], c(1)]"
   ]
  },
  {
   "cell_type": "code",
   "execution_count": null,
   "metadata": {
    "scrolled": true
   },
   "outputs": [],
   "source": [
    "set.seed(95)\n",
    "smp_size <- floor(0.75 * nrow(simple_dataset))\n",
    "train_ind <- sample(seq_len(nrow(simple_dataset)), size = smp_size)\n",
    "train_df <- simple_dataset[train_ind, ]\n",
    "test_df <- simple_dataset[-train_ind, ]\n",
    "\n",
    "classifier = randomForest(x = train_df[,active_all],\n",
    "                          y = train_df[,'HABITAT'],\n",
    "                          ntree = 1000, random_state = 0, mtry=2)\n",
    "\n",
    "y_pred = predict(classifier, newdata = test_df[,active_all])\n",
    "cm = table(test_df[,'HABITAT'], y_pred)\n",
    "cm"
   ]
  },
  {
   "cell_type": "code",
   "execution_count": null,
   "metadata": {},
   "outputs": [],
   "source": [
    "y2_pred = predict(classifier, newdata=test_dataset)\n",
    "cm2 = table(y2_pred, y2_pred)\n",
    "cm2 / 110"
   ]
  },
  {
   "cell_type": "code",
   "execution_count": null,
   "metadata": {},
   "outputs": [],
   "source": [
    "ad_out = \"../otu_data/WaterQualityData/matched_cleaned_data/all_mdata_with_habitat.txt\"\n",
    "all_df[,'habitat'] <- rep(0, dim(all_df)[1])\n",
    "print(sum(all_df[,'habitat'] == 0))\n",
    "all_df[rownames(simple_dataset),'habitat'] <- simple_dataset[,'HABITAT']\n",
    "print(sum(all_df[,'habitat'] == 0))\n",
    "all_df[names(y2_pred),'habitat'] <- y2_pred\n",
    "print(sum(all_df[,'habitat'] == 0))\n",
    "write.table(x = all_df,  file = ad_out, sep = '\\t')"
   ]
  },
  {
   "cell_type": "code",
   "execution_count": null,
   "metadata": {},
   "outputs": [],
   "source": []
  }
 ],
 "metadata": {
  "kernelspec": {
   "display_name": "R",
   "language": "R",
   "name": "ir"
  },
  "language_info": {
   "codemirror_mode": "r",
   "file_extension": ".r",
   "mimetype": "text/x-r-source",
   "name": "R",
   "pygments_lexer": "r",
   "version": "3.5.1"
  }
 },
 "nbformat": 4,
 "nbformat_minor": 2
}
