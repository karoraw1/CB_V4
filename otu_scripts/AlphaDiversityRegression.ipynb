{
 "cells": [
  {
   "cell_type": "code",
   "execution_count": null,
   "metadata": {},
   "outputs": [],
   "source": [
    "library(nlme)\n",
    "library(car)\n",
    "library(ggplot2)\n",
    "library(GGally) \n",
    "library(dplyr)\n",
    "library(repr)\n",
    "library(mgcv)"
   ]
  },
  {
   "cell_type": "code",
   "execution_count": null,
   "metadata": {},
   "outputs": [],
   "source": [
    "setwd(\"/Volumes/KeithSSD/CB_V4/otu_data/WaterQualityData/matched_cleaned_data\")\n",
    "\n",
    "env_data_file = \"env_metadata.txt\"\n",
    "adiv_data_file = \"alpha_diversity.txt\"\n",
    "habitat_file = \"all_mdata_with_habitat.txt\"\n",
    "\n",
    "habitat_srs <- read.delim(habitat_file, row.names=1)\n",
    "print(str(habitat_srs))\n",
    "known.dtypes <- c('character', 'factor', \"factor\", \"factor\", \"factor\", \n",
    "                  \"factor\", 'numeric', 'numeric', 'numeric', 'numeric', \n",
    "                  'numeric', 'numeric', 'numeric', 'numeric', 'numeric',\n",
    "                  'numeric', 'numeric', 'numeric', 'numeric', 'numeric')\n",
    "active_set = c('CollectionAgency', 'Year', 'Month', 'StationName', 'Discharge_Susquehanna_14', \n",
    "               'day_length', 'Latitude', 'Depth')\n",
    "\n",
    "envdata <- read.delim(env_data_file, row.names=1, colClasses=known.dtypes)[,active_set]\n",
    "envdata <- cbind(envdata, habitat_srs[rownames(envdata), c('anti_day_length', 'habitat', 'Month_Year')])\n",
    "month_year <- envdata[,'Month_Year']\n",
    "names(month_year) <- rownames(envdata)\n",
    "envdata[,'habitat'] <- factor(envdata[,'habitat'])\n",
    "\n",
    "adiv_df <- read.delim(adiv_data_file, row.names=1)[rownames(envdata),]\n",
    "fulldata = cbind(envdata, adiv_df)\n",
    "fulldata[,'observed_otus'] <- NULL\n",
    "fulldata[,'Month_Year'] <- NULL\n",
    "print(str(fulldata))"
   ]
  },
  {
   "cell_type": "code",
   "execution_count": null,
   "metadata": {},
   "outputs": [],
   "source": [
    "na_count <- data.frame(sapply(envdata, function(y) sum(length(which(is.na(y))))))\n",
    "print(na_count)\n",
    "na_count <- data.frame(sapply(adiv_df, function(y) sum(length(which(is.na(y))))))\n",
    "print(na_count)"
   ]
  },
  {
   "cell_type": "code",
   "execution_count": null,
   "metadata": {},
   "outputs": [],
   "source": [
    "options(repr.plot.width=7, repr.plot.height=7)\n",
    "#pairs(adiv_df, col = c(\"red\", \"cornflowerblue\", \"purple\")[envdata[,'habitat']],\n",
    "#      pch = c(8, 18, 1)[envdata[,'habitat']])\n",
    "#print(cor(adiv_df))\n",
    "ggpairs(adiv_df)"
   ]
  },
  {
   "cell_type": "code",
   "execution_count": null,
   "metadata": {},
   "outputs": [],
   "source": [
    "options(repr.plot.width=7, repr.plot.height=7)\n",
    "\n",
    "op <- par(mfrow = c(3, 3), mar = c(3, 3, 3, 1))\n",
    "dotchart(fulldata$faith_pd, main = \"faithpd\", group = fulldata$habitat)\n",
    "dotchart(fulldata$enspie, main = \"ENSpie\", group = fulldata$habitat)\n",
    "dotchart(fulldata$Depth, main = \"Depth\", group = fulldata$habitat)\n",
    "dotchart(fulldata$Discharge_Susquehanna_14, main = \"Q\", group = fulldata$habitat) \n",
    "dotchart(fulldata$day_length, main = \"DAYLEN\", group = fulldata$habitat)\n",
    "dotchart(fulldata$Latitude, main = \"Lat\", group = fulldata$habitat)\n",
    "dotchart(as.numeric(fulldata$Year), main = \"Yr\", group = fulldata$habitat)\n",
    "dotchart(as.numeric(fulldata$Month), main = \"Month\", group = fulldata$habitat)\n",
    "dotchart(as.numeric(fulldata$anti_day_length), main = \"~DAYLEN\", group = fulldata$habitat)\n",
    "par(op)"
   ]
  },
  {
   "cell_type": "code",
   "execution_count": null,
   "metadata": {},
   "outputs": [],
   "source": [
    "# VIF > 3 is too colinear and/or correlation > |0.65| \n",
    "# need to pick between: discharge and anti-day-length and day-length and month\n",
    "#                       latitude & station \n",
    "select_cols = c('Year', 'Month','Discharge_Susquehanna_14', 'day_length', 'Latitude', 'Depth', \n",
    "                'habitat', 'enspie', 'faith_pd', 'StationName', 'CollectionAgency', 'anti_day_length')\n",
    "predictors_x = fulldata[, select_cols]\n",
    "# standardize the numeric columns\n",
    "predictors_ns <- predictors_x %>% mutate_if(is.numeric, list(~ as.numeric(scale(.))) )\n",
    "names(predictors_ns)[names(predictors_ns) == 'Discharge_Susquehanna_14'] <- 'Discharge.Susquehanna'\n",
    "names(predictors_ns)[names(predictors_ns) == 'day_length'] <- 'DayLen'\n",
    "names(predictors_ns)[names(predictors_ns) == 'Latitude'] <- 'Lat'\n",
    "names(predictors_ns)[names(predictors_ns) == 'Habitat'] <- 'habitat'\n",
    "names(predictors_ns)[names(predictors_ns) == 'enspie'] <- 'ENSpie'\n",
    "names(predictors_ns)[names(predictors_ns) == 'faith_pd'] <- 'Faiths.PD'\n",
    "# Convert data to numeric\n",
    "corr <- data.frame(lapply(predictors_ns, as.double))\n",
    "# Plot the graph\n",
    "options(repr.plot.width=7, repr.plot.height=7)\n",
    "\n",
    "png(filename=\"/Volumes/KeithSSD/CB_V4/otu_data/WaterQualityData/figs/alpha_div_regression_corr2.png\")\n",
    "ggcorr(corr, method = c(\"pairwise\", \"pearson\"), nbreaks = 6,\n",
    "       hjust = 0.92, size=4, label = TRUE, label_size = 3, color = \"grey25\", layout.exp=1.1)\n",
    "dev.off()\n",
    "\n",
    "ggcorr(corr, method = c(\"pairwise\", \"pearson\"), nbreaks = 6,\n",
    "       hjust = 0.92, size=4, label = TRUE, label_size = 3, color = \"grey25\", layout.exp=1.1)"
   ]
  },
  {
   "cell_type": "code",
   "execution_count": null,
   "metadata": {},
   "outputs": [],
   "source": [
    "ggpairs(predictors_ns, cardinality_threshold=20)"
   ]
  },
  {
   "cell_type": "code",
   "execution_count": null,
   "metadata": {},
   "outputs": [],
   "source": [
    "vif(lm(ENSpie~., data = corr))"
   ]
  },
  {
   "cell_type": "code",
   "execution_count": null,
   "metadata": {},
   "outputs": [],
   "source": [
    "enspie_df = subset(predictors_ns, select=-c(Faiths.PD))\n",
    "eM1 <- lm(ENSpie~CollectionAgency + anti_day_length + habitat + Lat, data=enspie_df)\n",
    "eM2 <- lm(ENSpie~CollectionAgency*anti_day_length + habitat + Lat, data=enspie_df)\n",
    "anova(eM1, eM2)\n",
    "summary(eM2)\n",
    "drop1(eM2, test=\"F\")\n",
    "anova(eM2)\n",
    "AIC(eM2)"
   ]
  },
  {
   "cell_type": "code",
   "execution_count": null,
   "metadata": {},
   "outputs": [],
   "source": [
    "op <- par(mfrow = c(2, 2))\n",
    "plot(eM2)"
   ]
  },
  {
   "cell_type": "code",
   "execution_count": null,
   "metadata": {},
   "outputs": [],
   "source": [
    "options(repr.plot.width=6, repr.plot.height=6)\n",
    "par(mfrow = c(2, 2))\n",
    "eE2 <- rstandard(eM2) \n",
    "plot(y = eE2, x = enspie_df$CollectionAgency, xlab = \"Lab\", ylab = \"Residuals\")\n",
    "abline(0,0)\n",
    "plot(eE2 ~ enspie_df$Month, xlab = \"Month\", ylab = \"Residuals\")\n",
    "abline(0, 0)\n",
    "plot(eE2 ~ enspie_df$StationName, xlab = \"Station\", ylab = \"Residuals\")\n",
    "abline(0, 0)\n",
    "plot(eE2 ~ enspie_df$habitat, xlab = \"Habitat\", ylab = \"Residuals\")\n",
    "abline(0, 0)\n",
    "par(op)"
   ]
  },
  {
   "cell_type": "code",
   "execution_count": null,
   "metadata": {},
   "outputs": [],
   "source": [
    "options(repr.plot.width=6, repr.plot.height=6)\n",
    "par(mfrow = c(2, 2))\n",
    "plot(y = enspie_df$ENSpie, x = enspie_df$CollectionAgency, xlab = \"Lab\", ylab = \"ENSpie\")\n",
    "abline(0,0)\n",
    "plot(enspie_df$ENSpie ~ enspie_df$Month, xlab = \"Month\", ylab = \"ENSpie\")\n",
    "abline(0, 0)\n",
    "plot(enspie_df$ENSpie ~ enspie_df$StationName, xlab = \"Lat\", ylab = \"ENSpie\")\n",
    "abline(0, 0)\n",
    "plot(enspie_df$ENSpie ~ enspie_df$habitat, xlab = \"Habitat\", ylab = \"ENSpie\")\n",
    "abline(0, 0)\n",
    "par(op)"
   ]
  },
  {
   "cell_type": "code",
   "execution_count": null,
   "metadata": {},
   "outputs": [],
   "source": [
    "library(splines)\n",
    "eAM2 <- gam(ENSpie ~ CollectionAgency*anti_day_length + habitat + bs(Lat, knots = c(1., .3, -1.75)), data=enspie_df)\n",
    "eAM2c <- gam(ENSpie ~ anti_day_length + habitat + s(Lat, bs = \"cs\"), data=enspie_df)\n",
    "eAM2a <- gam(ENSpie ~ CollectionAgency + habitat + s(Lat, bs = \"cs\"), data=enspie_df)\n",
    "eAM2h <- gam(ENSpie ~ CollectionAgency*anti_day_length + s(Lat, bs = \"cs\"), data=enspie_df)\n",
    "eAM2l <- gam(ENSpie ~ CollectionAgency*anti_day_length + habitat, data=enspie_df)\n",
    "\n",
    "print(c(AIC(eAM2l),\n",
    "        AIC(eAM2h),\n",
    "        AIC(eAM2a),\n",
    "        AIC(eAM2c),\n",
    "        AIC(eAM2)))\n",
    "\n",
    "anova(eAM2)\n",
    "summary(eAM2)\n",
    "AIC(eAM2, eM2)\n",
    "gam.check(eAM2)"
   ]
  },
  {
   "cell_type": "code",
   "execution_count": null,
   "metadata": {},
   "outputs": [],
   "source": [
    "options(repr.plot.width=7, repr.plot.height=7)\n",
    "eAE2 <- resid(eAM2, type = \"deviance\")\n",
    "eAF2 <- fitted(eAM2)\n",
    "op <- par(mfrow = c(2, 2), mar = c(4, 4, 3, 2))\n",
    "MyYlab <- \"Residuals\"\n",
    "plot(eAE2 ~ enspie_df$CollectionAgency, main = \"CollectionAgency\", ylab = MyYlab)\n",
    "boxplot(eAE2 ~ enspie_df$StationName, main = \"station\", ylab = MyYlab)\n",
    "plot(eAE2 ~ enspie_df$Month, main = \"Month\", ylab = MyYlab)\n",
    "plot(x = enspie_df$habitat, y = eAE2, ylab = MyYlab, main = \"Habitat\")\n",
    "par(op)\n",
    "\n",
    "op <- par(mfrow = c(2, 2), mar = c(4, 4, 3, 2))\n",
    "MyYlab <- \"Fitted Values\"\n",
    "plot(eAF2 ~ enspie_df$CollectionAgency, main = \"CollectionAgency\", ylab = MyYlab)\n",
    "boxplot(eAF2 ~ enspie_df$StationName, main = \"station\", ylab = MyYlab)\n",
    "plot(eAF2 ~ enspie_df$Month, main = \"Month\", ylab = MyYlab)\n",
    "plot(x = enspie_df$habitat, y = eAF2, ylab = MyYlab, main = \"Habitat\")\n",
    "par(op)\n"
   ]
  },
  {
   "cell_type": "code",
   "execution_count": null,
   "metadata": {},
   "outputs": [],
   "source": [
    "faiths_df = subset(predictors_ns, select=-c(ENSpie))[-c(17,18,19),]\n",
    "print(dim(faiths_df))\n",
    "step(lm(Faiths.PD~., data = faiths_df))"
   ]
  },
  {
   "cell_type": "code",
   "execution_count": null,
   "metadata": {},
   "outputs": [],
   "source": [
    "fM2 <- lm(Faiths.PD ~ StationName + Year + anti_day_length + Depth + Discharge.Susquehanna, data = faiths_df)\n",
    "anova(fM2)\n",
    "summary(fM2)"
   ]
  },
  {
   "cell_type": "code",
   "execution_count": null,
   "metadata": {},
   "outputs": [],
   "source": [
    "options(repr.plot.width=6, repr.plot.height=6)\n",
    "op <- par(mfrow = c(2, 2))\n",
    "plot(fM2)"
   ]
  },
  {
   "cell_type": "code",
   "execution_count": null,
   "metadata": {},
   "outputs": [],
   "source": [
    "month_year2 = factor(month_year, levels=c(\"07 15\", \"08 15\", \"06 16\", \"07 16\", \"08 16\", \n",
    "                                          \"04 17\", \"05 17\", \"06 17\", \"07 17\", \"08 17\",\n",
    "                                          \"09 17\"))\n",
    "month_year3 = month_year2[-c(17,18,19)]\n",
    "\n",
    "\n",
    "options(repr.plot.width=6, repr.plot.height=6)\n",
    "par(mfrow = c(2, 2))\n",
    "fE2 <- rstandard(fM2) \n",
    "plot(y = fE2, x = faiths_df$Year, xlab = \"Lab\", ylab = \"Residuals\")\n",
    "abline(0,0)\n",
    "plot(fE2 ~ faiths_df$StationName, xlab = \"Station\", ylab = \"Residuals\")\n",
    "abline(0, 0)\n",
    "plot(fE2 ~ month_year3, xlab = \"Month:Year\", ylab = \"Residuals\")\n",
    "abline(0, 0)\n",
    "plot(fE2 ~ faiths_df$Depth, xlab = \"Depth\", ylab = \"Residuals\")\n",
    "abline(0, 0)\n",
    "par(op)"
   ]
  },
  {
   "cell_type": "code",
   "execution_count": null,
   "metadata": {},
   "outputs": [],
   "source": [
    "options(repr.plot.width=8, repr.plot.height=8)\n",
    "par(mfrow = c(2, 2))\n",
    "plot(y = faiths_df$Faiths.PD, x = faiths_df$Year, xlab = \"Lab\", ylab = \"Faith's PD\")\n",
    "abline(0,0)\n",
    "plot(y = faiths_df$Faiths.PD, x = faiths_df$StationName, xlab = \"Station\", ylab = \"Faith's PD\")\n",
    "abline(0, 0)\n",
    "plot(y = faiths_df$Faiths.PD, x = month_year3, xlab = \"Month:Year\", ylab = \"Faith's PD\")\n",
    "abline(0, 0)\n",
    "plot(y = faiths_df$Faiths.PD, x = faiths_df$Depth, xlab = \"Depth\", ylab = \"Faith's PD\")\n",
    "abline(0, 0)\n",
    "par(op)\n"
   ]
  },
  {
   "cell_type": "code",
   "execution_count": null,
   "metadata": {},
   "outputs": [],
   "source": [
    "#StationName + Year + anti_day_length + Depth + Discharge.Susquehanna\n",
    "AM2 <- gam(Faiths.PD ~ s(Depth, bs = \"cs\") + \n",
    "                       s(Discharge.Susquehanna, bs = \"cs\") + \n",
    "                       s(anti_day_length, bs = \"cs\") + StationName + Year, data = faiths_df)\n",
    "\n",
    "AM2vp <- gamm(Faiths.PD ~ s(Depth, bs = \"cs\") + \n",
    "                       s(Discharge.Susquehanna, bs = \"cs\") + \n",
    "                       s(anti_day_length, bs = \"cs\") + StationName + Year, \n",
    "                       weights = varIdent(form =~ 1 | Year), data = faiths_df)\n",
    "\n",
    "AM2d <- gam(Faiths.PD ~ s(Discharge.Susquehanna, bs = \"cs\") + \n",
    "                       s(anti_day_length, bs = \"cs\") + StationName + Year, data = faiths_df)\n",
    "AM2q <- gam(Faiths.PD ~ s(Depth, bs = \"cs\") + \n",
    "                       s(anti_day_length, bs = \"cs\") + StationName + Year, data = faiths_df)\n",
    "AM2m <- gam(Faiths.PD ~ s(Depth, bs = \"cs\") + \n",
    "                       s(Discharge.Susquehanna, bs = \"cs\") + \n",
    "                       StationName + Year, data = faiths_df)\n",
    "AM2y <- gam(Faiths.PD ~ s(Depth, bs = \"cs\") + \n",
    "                       s(Discharge.Susquehanna, bs = \"cs\") + \n",
    "                       s(anti_day_length, bs = \"cs\") + Year, data = faiths_df)\n",
    "AM2c <- gam(Faiths.PD ~ s(Depth, bs = \"cs\") + \n",
    "                       s(Discharge.Susquehanna, bs = \"cs\") + \n",
    "                       s(anti_day_length, bs = \"cs\") + StationName, data = faiths_df)\n",
    "\n",
    "print(c(AIC(AM2c),AIC(AM2y),AIC(AM2m),AIC(AM2q),AIC(AM2d), AIC(AM2vp$lme), AIC(AM2)))\n",
    "\n",
    "anova(AM2vp$gam)\n",
    "summary(AM2vp$gam)\n",
    "AIC(AM2vp$lme, fM2)"
   ]
  },
  {
   "cell_type": "code",
   "execution_count": null,
   "metadata": {},
   "outputs": [],
   "source": [
    "options(repr.plot.width=6, repr.plot.height=6)\n",
    "par(mar = c(2, 2, 2, 2))\n",
    "gam.check(AM2vp$gam)"
   ]
  },
  {
   "cell_type": "code",
   "execution_count": null,
   "metadata": {},
   "outputs": [],
   "source": [
    "options(repr.plot.width=6, repr.plot.height=6)\n",
    "E.AM2 <- resid(AM2vp$gam)\n",
    "Fit.AM2 <- fitted(AM2vp$gam)\n",
    "par(mfrow = c(2, 2))\n",
    "plot(y = E.AM2, x = faiths_df$Year, xlab = \"Lab\", ylab = \"Residuals\")\n",
    "abline(0,0)\n",
    "plot(E.AM2 ~ faiths_df$StationName, xlab = \"Station\", ylab = \"Residuals\")\n",
    "abline(0, 0)\n",
    "plot(E.AM2 ~ month_year3, xlab = \"Month:Year\", ylab = \"Residuals\")\n",
    "abline(0, 0)\n",
    "plot(E.AM2 ~ faiths_df$Depth, xlab = \"Depth\", ylab = \"Residuals\")\n",
    "abline(0, 0)\n",
    "par(op)"
   ]
  },
  {
   "cell_type": "code",
   "execution_count": null,
   "metadata": {},
   "outputs": [],
   "source": [
    "par(mfrow = c(2, 2))\n",
    "plot(y = Fit.AM2, x = faiths_df$Year, xlab = \"Lab\", ylab = \"Fitted Values\")\n",
    "abline(0,0)\n",
    "plot(Fit.AM2 ~ faiths_df$StationName, xlab = \"Station\", ylab = \"Fitted Values\")\n",
    "abline(0, 0)\n",
    "plot(Fit.AM2 ~ month_year3, xlab = \"Month:Year\", ylab = \"Fitted Values\")\n",
    "abline(0, 0)\n",
    "plot(Fit.AM2 ~ faiths_df$Depth, xlab = \"Depth\", ylab = \"Fitted Values\")\n",
    "abline(0, 0)\n",
    "par(op)"
   ]
  },
  {
   "cell_type": "code",
   "execution_count": null,
   "metadata": {},
   "outputs": [],
   "source": [
    "> library(gstat)\n",
    "> mydata <- data.frame(E, Boreality$x, Boreality$y)\n",
    "> coordinates(mydata) <- c(\"Boreality.x\",\"Boreality.y\") > bubble(mydata, \"E\", col = c(\"black\",\"grey\"),\n",
    "main = \"Residuals\", xlab = \"X-coordinates\", ylab = \"Y-coordinates\")"
   ]
  },
  {
   "cell_type": "code",
   "execution_count": null,
   "metadata": {},
   "outputs": [],
   "source": [
    "\n",
    "> mydata <- data.frame(E, Boreality$x, Boreality$y)\n",
    "> coordinates(mydata) <- c(\"Boreality.x\",\"Boreality.y\") > bubble(mydata, \"E\", col = c(\"black\",\"grey\"),\n",
    "main = \"Residuals\", xlab = \"X-coordinates\", ylab = \"Y-coordinates\")"
   ]
  },
  {
   "cell_type": "code",
   "execution_count": null,
   "metadata": {},
   "outputs": [],
   "source": [
    "lmc <- lmeControl(niterEM = 5200, msMaxIter = 5200)\n",
    "\n",
    "Mlm <- lm(Faiths.PD ~ Month*Year + Depth, data=faiths_df)\n",
    "Mlme1 <- lme(Faiths.PD ~ 1 + Month + Depth, random = ~ 1 | Year, data=faiths_df, method=\"ML\")\n",
    "Mlme2 <- lme(Faiths.PD ~ 1 + Year + Depth, random = ~ 1 | Month, data=faiths_df, method=\"ML\")\n",
    "\n",
    "AIC(Mlme1, Mlme2, Mlm)\n",
    "anova(Mlme1, Mlme2, Mlm)\n",
    "summary(Mlme1)"
   ]
  },
  {
   "cell_type": "code",
   "execution_count": null,
   "metadata": {},
   "outputs": [],
   "source": [
    "options(repr.plot.width=7, repr.plot.height=7)\n",
    "E2 <- resid(Mlme1, type = \"normalized\")\n",
    "F2 <- fitted(Mlme1)\n",
    "op <- par(mfrow = c(2, 2), mar = c(4, 4, 3, 2))\n",
    "MyYlab <- \"Residuals\"\n",
    "plot(x = F2, y = E2, xlab = \"Fitted values\", ylab = MyYlab)\n",
    "boxplot(E2 ~ faiths_df$Year, main = \"Year\", ylab = MyYlab)\n",
    "plot(E2 ~ faiths_df$Depth, main = \"Depth\", ylab = MyYlab)\n",
    "plot(x = month_year2, y = E2, ylab = MyYlab, main = \"Month Year\")\n",
    "par(op)"
   ]
  },
  {
   "cell_type": "code",
   "execution_count": null,
   "metadata": {},
   "outputs": [],
   "source": [
    "\n",
    "\n",
    "\n",
    "# cross validating smoothers is given by: \n",
    "# AM2 <- gam(ABUND  ̃ s(L.AREA, bs = \"cs\") + s(L.DIST, bs = \"cs\") + s(L.LDIST,bs = \"cs\") \n",
    "#                  + s(YR.ISOL, bs = \"cs\") + s(ALT, bs = \"cs\") + fGRAZE, data = Loyn)\n",
    "# \"edf\" column in summary will show the relative amount of smoothing, if = 0, term is linear? \n",
    "# plots residuals against fitted values\n",
    "# > plot(M1, which = c(1), col = 1, add.smooth = FALSE, caption = \"\")\n",
    "# plot the residuals against each individual explanatory variable\n",
    "# > plot(Squid$fMONTH, resid(M1), xlab = \"Month\", ylab = \"Residuals\")\n",
    "# > plot(Squid$DML, resid(M1), xlab = \"DML\", ylab = \"Residuals\")\n",
    "## This plots the residuals versus the two predictors in question, there is a facet for each factor level in month\n",
    "# > E <- resid(M.lm)\n",
    "# > coplot(E ∼ DML | fMONTH, data = Squid)\n",
    "\n",
    "\n",
    "# (generalized least squares is a flavor of linear model with homogeneity corrections) \n",
    "# when the residuals deviate systematically with a variable, you can use a fixed variance structure:\n",
    "# M.gls1 <- gls(Testisweight ∼ DML * fMONTH, weights = varFixed(∼DML), data = Squid)\n",
    "# compare with: \n",
    "# M.lm <- gls(Testisweight ∼ DML * fMONTH, data=Squid)\n",
    "# AIC(M.lm, M.gls1)\n",
    "# if there is a variance structure that changes per a factor explanatory variable, we use:\n",
    "# vf2 <- varIdent(form= ∼ 1 | fMONTH)\n",
    "# as an alternative for the previous two, we can try:\n",
    "# vf4 <- varPower(form =∼ DML | fMONTH) OR varExp(form =∼ DML | fMONTH) OR varConstPower(form =∼ DML | fMONTH)\n",
    "# it is not clear if we can combine terms in varFixed or varIdent, but we can combine them seperately, e.g.\n",
    "# vf8 <- varComb(varIdent(form =∼ 1 | fMONTH) , varExp(form =∼ DML) )\n",
    "# varPower cannot be used if the covariate is ever equal to 0\n",
    "## To confirm your choice, plot the error distribution versus predictors \n",
    "#E2 <- resid(M.gls4, type = \"normalized\") > coplot(E2 ∼ DML | fMONTH, data = Squid,\n",
    "#ylab = \"Normalised residuals\")\n",
    "\n",
    "#summary(continuous)\n",
    "# plot a variable\n",
    "#library(ggplot2)\n",
    "#ggplot(continuous, aes(x = hours.per.week)) + geom_density(alpha = .2, fill = \"#FF6666\")\n",
    "#ggplot(continuous, aes(x = educational.num)) + geom_density(alpha = .2, fill = \"#32CD32\")\n",
    "#library(dplyr)"
   ]
  },
  {
   "cell_type": "code",
   "execution_count": null,
   "metadata": {},
   "outputs": [],
   "source": [
    "set.seed(14)\n",
    "create_train_test <- function(data, size = 0.8, train = TRUE) {\n",
    "    n_row = nrow(data)\n",
    "    total_row = size * n_row\n",
    "    train_sample <- 1: total_row\n",
    "    if (train == TRUE) {\n",
    "        return (data[train_sample, ])\n",
    "    } else {\n",
    "        return (data[-train_sample, ])\n",
    "    }\n",
    "}\n",
    "full_data = cbind(scale(response), predictors_ns)\n",
    "colnames(full_data)[1] <- phenotype\n",
    "row.names(full_data) <- row.names(mdata)\n",
    "data_train <- create_train_test(full_data, 0.6, train = TRUE)\n",
    "data_test <- create_train_test(full_data, 0.6, train = FALSE)\n",
    "dim(data_train)\n",
    "dim(data_test)\n",
    "row.names(data_train)[1:5]"
   ]
  },
  {
   "cell_type": "code",
   "execution_count": null,
   "metadata": {},
   "outputs": [],
   "source": [
    "head(data_train)"
   ]
  },
  {
   "cell_type": "code",
   "execution_count": null,
   "metadata": {},
   "outputs": [],
   "source": [
    "library(scorer)\n",
    "library(MASS)\n",
    "library(caret)\n",
    "library(leaps)\n",
    "simple_model <- lm(faith_pd ~., data = data_train)\n",
    "step_model <- stepAIC(simple_model, direction = \"both\", trace=FALSE)\n",
    "ls(step_model)\n",
    "summary(step_model)\n"
   ]
  },
  {
   "cell_type": "code",
   "execution_count": null,
   "metadata": {},
   "outputs": [],
   "source": [
    "opt_model = lm(formula = faith_pd ~ Longitude + TrimCount + Year + julian_day + day_length + WTEMP + DO + PH + Depth_Percentage + Discharge_Susquehanna_14, data = data_train)\n",
    "pred.w.clim <- predict(opt_model, data_test, interval = \"confidence\")\n",
    "print(r2_score(data_test[,'faith_pd'], pred.w.clim[,'fit']))\n",
    "pred.w.clim <- predict(simple_model, data_test, interval = \"confidence\")\n",
    "print(r2_score(data_test[,'faith_pd'], pred.w.clim[,'fit']))\n",
    "\n",
    "\n",
    "\n",
    "train.control <- trainControl(method=\"cv\", number = 10)\n",
    "step_model <- train(faith_pd ~., data = full_data, method = \"leapSeq\", trControl=train.control,\n",
    "                    tuneGrid=data.frame(nvmax=1:15))\n",
    "\n",
    "step_model$results\n",
    "summary(step_model$finalModel)\n"
   ]
  },
  {
   "cell_type": "code",
   "execution_count": null,
   "metadata": {},
   "outputs": [],
   "source": [
    "qqPlot(simple_model, simulate=T)\n",
    "outlierTest(simple_model, labels=row.names(data_train))"
   ]
  },
  {
   "cell_type": "code",
   "execution_count": null,
   "metadata": {},
   "outputs": [],
   "source": [
    "library(car)\n",
    "pt_obj = powerTransform(continuous)\n",
    "coef(p1, round=TRUE)\n",
    "summary(m1 <- lm(bcPower(cycles, p1$roundlam) ~ len + amp + load, Wool))\n",
    "\n",
    "#summary(p1 <- powerTransform(cycles ~ len + amp + load, Wool))\n",
    "#ggplot(continuous, aes(x = hours.per.week)) + geom_density(alpha = .2, fill = \"#FF6666\")\n",
    "#ggplot(data_adult_rescale, aes(x = educational.num)) + geom_density(alpha = .2, fill = \"#32CD32\")"
   ]
  },
  {
   "cell_type": "code",
   "execution_count": null,
   "metadata": {},
   "outputs": [],
   "source": []
  },
  {
   "cell_type": "code",
   "execution_count": null,
   "metadata": {},
   "outputs": [],
   "source": [
    "library(SoDA)\n",
    "library(adespatial)\n",
    "subm_geop <- mdata[,c(\"Longitude\", \"Latitude\", \"StationName\")]\n",
    "aggSub <- aggregate(.~ StationName, subm_geop, FUN=mean)\n",
    "\n",
    "cart_coords = geoXY(latitude=aggSub$Latitude, longitude=aggSub$Longitude, unit=1000)\n",
    "row.names(cart_coords) <- aggSub$StationName\n",
    "stat_dists <- matrix(nrow=20, ncol=20)\n",
    "for(i in 1:dim(stat_dists)[1]){\n",
    "    for(j in 1:dim(stat_dists)[2]){\n",
    "        stat_dists[i, j] <- geoDist(aggSub$Latitude[i], aggSub$Longitude[i], aggSub$Latitude[j], aggSub$Longitude[j])\n",
    "    }\n",
    "}\n",
    "colnames(stat_dists) <- aggSub$StationName; row.names(stat_dists) <- aggSub$StationName;\n",
    "cb.dbmem <- as.data.frame(dbmem(cart_coords, thresh = 45.0 ,silent = TRUE))\n",
    "row.names(cb.dbmem) <- aggSub$StationName;\n",
    "dim(mdata)\n",
    "mdata[, colnames(cb.dbmem)] <- NA\n",
    "for(cn in colnames(cb.dbmem)){\n",
    "    for(stat_name in row.names(cb.dbmem)){\n",
    "        mdata[mdata$StationName == stat_name , cn] <- cb.dbmem[stat_name, cn]\n",
    "    }\n",
    "}\n",
    "head(mdata[c(66,77,99,111,155,200,225,250,300), colnames(cb.dbmem)])"
   ]
  }
 ],
 "metadata": {
  "kernelspec": {
   "display_name": "R",
   "language": "R",
   "name": "ir"
  },
  "language_info": {
   "codemirror_mode": "r",
   "file_extension": ".r",
   "mimetype": "text/x-r-source",
   "name": "R",
   "pygments_lexer": "r",
   "version": "3.5.1"
  }
 },
 "nbformat": 4,
 "nbformat_minor": 2
}
