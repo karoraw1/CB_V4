{
 "cells": [
  {
   "cell_type": "code",
   "execution_count": 11,
   "metadata": {},
   "outputs": [
    {
     "name": "stderr",
     "output_type": "stream",
     "text": [
      "Loading required package: permute\n",
      "Loading required package: lattice\n",
      "This is vegan 2.5-5\n",
      "\n",
      "Attaching package: ‘dplyr’\n",
      "\n",
      "The following objects are masked from ‘package:stats’:\n",
      "\n",
      "    filter, lag\n",
      "\n",
      "The following objects are masked from ‘package:base’:\n",
      "\n",
      "    intersect, setdiff, setequal, union\n",
      "\n"
     ]
    }
   ],
   "source": [
    "library(vegan)\n",
    "library(repr)\n",
    "library(ggplot2)\n",
    "library(dplyr)"
   ]
  },
  {
   "cell_type": "code",
   "execution_count": 21,
   "metadata": {},
   "outputs": [
    {
     "name": "stdout",
     "output_type": "stream",
     "text": [
      "[1]  362 1561\n",
      "[1]   357 20964\n",
      "[1]  204 1561\n",
      "[1]   204 20964\n",
      "[1]  204 1432\n",
      "[1]   204 14000\n"
     ]
    }
   ],
   "source": [
    "# sample subset\n",
    "env_data_file = \"../otu_data/WaterQualityData/matched_cleaned_data/all_mdata_with_habitat.txt\"\n",
    "env_data = read.delim(env_data_file, row.names=1)\n",
    "env_data = env_data[env_data$CollectionAgency != 'Preheim', ]\n",
    "select_samples <- rownames(env_data)\n",
    "\n",
    "# rarefied otu table\n",
    "tsv.data <- read.delim(\"../otu_data/dispersal_selection_data/final_rarefied_table.tsv\", row.names=1)\n",
    "tsv.data2 <- read.delim(\"../otu_data/final_unrarefied_table.txt\", row.names=1)\n",
    "print(dim(tsv.data))\n",
    "print(dim(tsv.data2))\n",
    "\n",
    "# subset \n",
    "tsv.data.x = tsv.data[select_samples, ]\n",
    "print(dim(tsv.data.x))\n",
    "tsv.data2 = tsv.data2[select_samples, ]\n",
    "print(dim(tsv.data2))\n",
    "\n",
    "# Remove zeros columns & rows\n",
    "tsv.data =  tsv.data.x[rowSums(tsv.data.x) > 0, colSums(tsv.data.x) > 0]\n",
    "tsv.data2 =  tsv.data2[rowSums(tsv.data2) > 0, colSums(tsv.data2) > 0]\n",
    "print(dim(tsv.data))\n",
    "print(dim(tsv.data2))"
   ]
  },
  {
   "cell_type": "code",
   "execution_count": null,
   "metadata": {},
   "outputs": [],
   "source": [
    "# read in phylo dist mat\n",
    "phydf_full <- read.delim(\"../otu_data/dispersal_selection_data/not_full_tree_distances.tsv\", row.names=1)\n",
    "\n",
    "# subset it to observed abundances and convert to matrix\n",
    "phydf = phydf_full[ colnames(tsv.data), colnames(tsv.data) ]\n",
    "phydist = as.matrix(phydf)\n",
    "\n",
    "print(dim(phydf))"
   ]
  },
  {
   "cell_type": "code",
   "execution_count": null,
   "metadata": {},
   "outputs": [],
   "source": [
    "taxa_file = \"../otu_data/dada2_outputs/taxa_table_with_OTUs.txt\"\n",
    "pre_taxa_df = read.delim(taxa_file, row.names=1)\n",
    "pre_taxa_df[pre_taxa_df==\"\"] <- NA\n",
    "\n",
    "# Fix species\n",
    "spc_df = pre_taxa_df[!is.na(pre_taxa_df[,'Species']),]\n",
    "non_sp_df = pre_taxa_df[is.na(pre_taxa_df[,'Species']),]\n",
    "spc_df <- within(spc_df, Species <- paste(Genus, Species, sep=\" \"))\n",
    "taxa_df1 = rbind(spc_df, non_sp_df)[rownames(pre_taxa_df),]\n",
    "\n",
    "#Fix genus\n",
    "spc_df = taxa_df1[!is.na(taxa_df1[,'Genus']),]\n",
    "non_sp_df = taxa_df1[is.na(taxa_df1[,'Genus']),]\n",
    "spc_df <- within(spc_df, Genus <- paste(Family, Genus, sep=\" \"))\n",
    "taxa_df2 = rbind(spc_df, non_sp_df)[rownames(taxa_df1),]\n",
    "'Cyanobiaceae Cyanobium_PCC-6307' %in% taxa_df2$Genus\n",
    "\n",
    "#Fix family\n",
    "spc_df = taxa_df2[!is.na(taxa_df2[,'Family']),]\n",
    "non_sp_df = taxa_df2[is.na(taxa_df2[,'Family']),]\n",
    "spc_df <- within(spc_df, Family <- paste(Order, Family, sep=\" \"))\n",
    "taxa_df3 = rbind(spc_df, non_sp_df)[rownames(taxa_df2),]\n",
    "\"Synechococcales Cyanobiaceae\" %in% taxa_df3$Family\n",
    "\n",
    "#Fix Order\n",
    "spc_df = taxa_df3[!is.na(taxa_df3[,'Order']),]\n",
    "non_sp_df = taxa_df3[is.na(taxa_df3[,'Order']),]\n",
    "spc_df <- within(spc_df, Order <- paste(Class, Order, sep=\" \"))\n",
    "taxa_df4 = rbind(spc_df, non_sp_df)[rownames(taxa_df3),]\n",
    "'Oxyphotobacteria Synechococcales'%in% taxa_df4$Order\n",
    "\n",
    "#Fix Class\n",
    "spc_df = taxa_df4[!is.na(taxa_df4[,'Class']),]\n",
    "non_sp_df = taxa_df4[is.na(taxa_df4[,'Class']),]\n",
    "spc_df <- within(spc_df, Class <- paste(Phylum, Class, sep=\" \"))\n",
    "taxa_df5 = rbind(spc_df, non_sp_df)[rownames(taxa_df4),]\n",
    "'Cyanobacteria Oxyphotobacteria'%in% taxa_df5$Class\n",
    "\n",
    "#Fix Phylum\n",
    "spc_df = taxa_df5[!is.na(taxa_df5[,'Phylum']),]\n",
    "non_sp_df = taxa_df5[is.na(taxa_df5[,'Phylum']),]\n",
    "spc_df <- within(spc_df, Phylum <- paste(Kingdom, Phylum, sep=\" \"))\n",
    "taxa_df = rbind(spc_df, non_sp_df)[rownames(taxa_df5),]\n",
    "'Bacteria Cyanobacteria'%in% taxa_df$Phylum\n",
    "\n",
    "taxa_df = taxa_df[colnames(tsv.data2), ]\n",
    "taxa_df[taxa_df == \"\"] <- NA"
   ]
  },
  {
   "cell_type": "code",
   "execution_count": null,
   "metadata": {},
   "outputs": [],
   "source": [
    "classif_df = data.frame('num.classes'=apply(taxa_df, MARGIN=2, FUN=function(x) {length(unique(x[!is.na(x)]))}))\n",
    "classif_df$asvs.classified <- (round((colSums(!is.na(taxa_df)) / nrow(taxa_df))*100, 2))\n",
    "classif_df\n",
    "file.exists('/Volumes/KeithSSD/CB_V4/otu_data/KLD2.RData')\n",
    "file.exists('/Volumes/KeithSSD/CB_V4/otu_data/ASVEuc.RData')\n",
    "file.exists('/Volumes/KeithSSD/CB_V4/otu_data/ASVCorr.RData')"
   ]
  },
  {
   "cell_type": "code",
   "execution_count": null,
   "metadata": {},
   "outputs": [],
   "source": [
    "# add a pseudocount and make relative\n",
    "tsv.data3 = (tsv.data2+1)/rowSums((tsv.data2+1))\n",
    "# flip\n",
    "tsv.data.prep <- t(tsv.data3)\n",
    "# Compute the total relative abundace of each ASV\n",
    "otu.sums <- rowSums(tsv.data.prep)\n",
    "tsv.data.prep <- tsv.data.prep/otu.sums\n",
    "\n",
    "if (!file.exists('/Volumes/KeithSSD/CB_V4/otu_data/KLD2.RData')) {\n",
    "    library(philentropy)\n",
    "    # Compute KL divergence\n",
    "    distances <- KL(tsv.data.prep, unit='log')\n",
    "    otu.dist.mat = distances\n",
    "    rownames(otu.dist.mat) <- rownames(tsv.data.prep)\n",
    "    colnames(otu.dist.mat) <- rownames(tsv.data.prep)\n",
    "    save(otu.dist.mat, file='/Volumes/KeithSSD/CB_V4/otu_data/KLD2.RData')\n",
    "    rm(otu.dist.mat)\n",
    "}\n",
    "if (!file.exists('/Volumes/KeithSSD/CB_V4/otu_data/ASVEuc.RData')) {\n",
    "    otu.dist.mat = as.matrix(dist(tsv.data.prep))\n",
    "    save(otu.dist.mat, file='/Volumes/KeithSSD/CB_V4/otu_data/ASVEuc.RData')\n",
    "    rm(otu.dist.mat)\n",
    "}\n",
    "if (!file.exists('/Volumes/KeithSSD/CB_V4/otu_data/ASVCorr.RData')) {\n",
    "    otu.dist.mat2 = cor(t(tsv.data.prep))\n",
    "    save(otu.dist.mat2, file='/Volumes/KeithSSD/CB_V4/otu_data/ASVCorr.RData')\n",
    "    rm(otu.dist.mat2)\n",
    "}"
   ]
  },
  {
   "cell_type": "code",
   "execution_count": null,
   "metadata": {},
   "outputs": [],
   "source": [
    "load('/Volumes/KeithSSD/CB_V4/otu_data/ASVEuc.RData')\n",
    "otu.dist_ = as.dist(otu.dist.mat)\n"
   ]
  },
  {
   "cell_type": "code",
   "execution_count": null,
   "metadata": {},
   "outputs": [],
   "source": [
    "load('/Volumes/KeithSSD/CB_V4/otu_data/ASVEuc.RData')\n",
    "load('/Volumes/KeithSSD/CB_V4/otu_data/ASVCorr.RData')\n",
    "# subset the taxa DF\n",
    "full_taxa_df = taxa_df[rownames(tsv.data.prep), ]"
   ]
  },
  {
   "cell_type": "code",
   "execution_count": null,
   "metadata": {},
   "outputs": [],
   "source": [
    "niche_df = data.frame('name'=c(),\n",
    "                      'level'=c(),\n",
    "                      'within.class.euc'=c(),\n",
    "                      'within.class.phyd'=c(),\n",
    "                      'within.class.cor'=c(),\n",
    "                      'n.otus'=c())\n",
    "\n",
    "counter = 0\n",
    "taxa_levels = colnames(full_taxa_df)\n",
    "for (a_level in taxa_levels){\n",
    "    cat(a_level, \" \", counter, \"\\n\")\n",
    "    # drop nulls\n",
    "    sub_taxa = full_taxa_df[!is.na(full_taxa_df[,a_level]),]\n",
    "    # drop any category with only greater than 2 OTUs\n",
    "    sub_taxa2 = sub_taxa[sub_taxa[,a_level] %in% names(which(table(sub_taxa[,a_level]) > 2)), ]\n",
    "    # extract names at this level\n",
    "    avail_types = unique(sub_taxa2[,a_level])\n",
    "    for (a_t in avail_types){\n",
    "        # pull out OTUs at this level\n",
    "        otus_i = rownames(sub_taxa2[which(sub_taxa2[,a_level] == a_t),])\n",
    "        # make the row counter\n",
    "        counter = counter + 1\n",
    "        # record the name, level, and count\n",
    "        niche_df[counter, 'name'] = a_t\n",
    "        niche_df[counter, 'level'] = a_level\n",
    "        niche_df[counter, 'n.otus'] = length(otus_i)\n",
    "        \n",
    "        # record the kld\n",
    "        sub_dist.a = otu.dist.mat[otus_i, otus_i]\n",
    "        niche_df[counter, 'within.class.euc'] = mean(sub_dist.a[upper.tri(sub_dist.a)])\n",
    "        sub_dist.a2 = otu.dist.mat2[otus_i, otus_i]\n",
    "        niche_df[counter, 'within.class.cor'] = mean(sub_dist.a2[upper.tri(sub_dist.a2)])\n",
    "        \n",
    "        # pull out the ones on the tree\n",
    "        otus_ip = intersect(otus_i, colnames(phydf))\n",
    "        if (length(otus_ip) > 1) {\n",
    "            sub_dist.p = phydf_full[otus_ip, otus_ip]\n",
    "            niche_df[counter, 'within.class.phyd'] = mean(sub_dist.p[upper.tri(sub_dist.p)])\n",
    "        }\n",
    "    }\n",
    "}\n",
    "\n",
    "niche_df$level <- factor(niche_df$level, levels=taxa_levels)"
   ]
  },
  {
   "cell_type": "code",
   "execution_count": null,
   "metadata": {},
   "outputs": [],
   "source": [
    "niche_df2 = niche_df[!is.na(niche_df$n.otus),]\n",
    "niche_df2 = niche_df2[which(!(niche_df2$level %in% c('Kingdom', 'Species'))), ]\n",
    "\n",
    "quantile_by_level <- function(df){\n",
    "    class_niches = list()\n",
    "    for (lev in unique(df$level)){\n",
    "        class_niche = df[df$level == lev, ]\n",
    "        cat(lev, \" \", nrow(class_niche), \" \")\n",
    "        class_qs = quantile(class_niche$n.otus, probs = c(.25,.5,.75))\n",
    "        class_qs = c(1, class_qs, max(class_niche$n.otus)+1)\n",
    "        class_niche$n.ASVs = cut(class_niche$n.otus, class_qs, include.lowest=T)\n",
    "        levels(class_niche$n.ASVs) <- paste('Q', 1:4, sep=\"\")\n",
    "        cat(table(class_niche$n.ASVs), \"\\n\")\n",
    "        class_niches[[lev]] = class_niche\n",
    "    }\n",
    "    new_df = rbind.data.frame(class_niches[['Phylum']], class_niches[['Class']],\n",
    "                                 class_niches[['Order']], class_niches[['Family']],\n",
    "                                 class_niches[['Genus']])\n",
    "    new_df$n.ASVs <- factor(new_df$n.ASVs, levels=paste('Q', 1:4, sep=\"\"))\n",
    "    message(colSums(is.na(new_df)))\n",
    "    return(new_df)\n",
    "}\n",
    "\n",
    "niche_df3 = quantile_by_level(niche_df2)\n",
    "niche_df4 = niche_df3[!is.na(niche_df3$within.class.phyd), ]\n",
    "niche_df5 = quantile_by_level(niche_df4)\n",
    "\n",
    "colnames(niche_df5)[colnames(niche_df5) == 'level'] = \"Level\"\n",
    "colnames(niche_df5)[colnames(niche_df5) == 'within.class.euc'] = \"Within.Class.Dist\"\n",
    "colnames(niche_df5)[colnames(niche_df5) == 'within.class.phyd'] = \"Within.Class.PD\"\n",
    "colnames(niche_df5)[colnames(niche_df5) == 'within.class.cor'] = \"Within.Class.Corr\"\n",
    "\n",
    "colnames(niche_df3)[colnames(niche_df3) == 'level'] = \"Level\"\n",
    "colnames(niche_df3)[colnames(niche_df3) == 'within.class.euc'] = \"Within.Class.Dist\"\n",
    "colnames(niche_df3)[colnames(niche_df3) == 'within.class.phyd'] = \"Within.Class.PD\"\n",
    "colnames(niche_df3)[colnames(niche_df3) == 'within.class.cor'] = \"Within.Class.Corr\""
   ]
  },
  {
   "cell_type": "code",
   "execution_count": null,
   "metadata": {},
   "outputs": [],
   "source": [
    "options(repr.plot.width=4, repr.plot.height=3)\n",
    "\n",
    "ggplot(data = niche_df_nok, aes(x = Level, y = Within.Class.Dist, fill=n.ASVs)) +\n",
    "  geom_boxplot(position = position_dodge2(width = 0.8)) + \n",
    "  theme_classic() + coord_cartesian(ylim=c(0.0,0.4)) + scale_fill_grey()\n",
    "\n",
    "ggplot(data = niche_df_nok, aes(x = Level, y = Within.Class.PD, fill=n.ASVs)) +\n",
    "  geom_boxplot(position = position_dodge2(width = 0.8)) +  \n",
    "  theme_classic() + coord_cartesian(ylim=c(0.0,0.8)) + scale_fill_grey()\n"
   ]
  },
  {
   "cell_type": "code",
   "execution_count": 3,
   "metadata": {},
   "outputs": [],
   "source": [
    "library(pvclust)\n",
    "library(parallel)\n",
    "load('/Volumes/KeithSSD/CB_V4/otu_data/otuclusters.RData')"
   ]
  },
  {
   "cell_type": "code",
   "execution_count": 4,
   "metadata": {},
   "outputs": [
    {
     "name": "stdout",
     "output_type": "stream",
     "text": [
      "0.94 2 \n",
      "0.945 195 \n",
      "0.95 180 \n",
      "0.955 169 \n",
      "0.96 165 \n",
      "0.965 149 \n",
      "0.97 135 \n",
      "0.975 120 \n",
      "0.98 97 \n",
      "0.985 73 \n",
      "0.99 47 \n"
     ]
    }
   ],
   "source": [
    "cluster_sizes = data.frame('sizes'=c(), 'cutoff'=c())\n",
    "\n",
    "counter=0\n",
    "for (cutoff_ in seq(0.94, 0.99, 0.005)){\n",
    "    clusters_i <- pvpick(res.pv, alpha=cutoff_)$clusters\n",
    "    clust_lens = unlist(lapply(clusters_i, FUN=length))\n",
    "    cat(cutoff_, length(clust_lens), \"\\n\")\n",
    "    counter=counter+length(clust_lens)\n",
    "    cluster_sizes[(counter+1):(counter+length(clust_lens)), 'sizes'] = clust_lens\n",
    "    cluster_sizes[(counter+1):(counter+length(clust_lens)), 'cutoff'] = cutoff_\n",
    "    counter=counter+length(clust_lens)\n",
    "}\n"
   ]
  },
  {
   "cell_type": "code",
   "execution_count": 7,
   "metadata": {},
   "outputs": [
    {
     "data": {
      "text/plain": [
       "       \n",
       "         2  3  4  5  6  7  8  9 10 11 12 18 40 57 129 1504\n",
       "  0.94   0  0  0  0  0  0  0  0  0  0  0  0  0  1   0    1\n",
       "  0.945 80 42 25 18 10  5  3  4  2  2  1  1  0  1   1    0\n",
       "  0.95  72 37 24 18 10  4  3  4  2  2  1  1  0  1   1    0\n",
       "  0.955 64 35 23 18 11  3  3  4  2  2  1  1  1  0   1    0\n",
       "  0.96  66 27 28 18 10  2  3  4  2  2  1  1  0  0   1    0\n",
       "  0.965 61 24 24 16  8  2  3  4  2  2  1  1  0  0   1    0\n",
       "  0.97  60 18 19 15  7  2  3  4  2  2  1  1  0  0   1    0\n",
       "  0.975 58 13 15 15  7  1  2  4  2  1  0  1  0  0   1    0\n",
       "  0.98  49 12 11 13  6  0  0  2  2  0  0  1  0  0   1    0\n",
       "  0.985 37  7 10  8  5  0  0  2  2  0  0  1  0  0   1    0\n",
       "  0.99  21  6  6  5  4  1  0  0  2  0  0  1  0  0   1    0"
      ]
     },
     "metadata": {},
     "output_type": "display_data"
    }
   ],
   "source": [
    "table(cluster_sizes$cutoff, cluster_sizes$sizes)"
   ]
  },
  {
   "cell_type": "code",
   "execution_count": 29,
   "metadata": {},
   "outputs": [
    {
     "data": {
      "text/html": [
       "<ol class=list-inline>\n",
       "\t<li>1561</li>\n",
       "\t<li>1</li>\n",
       "</ol>\n"
      ],
      "text/latex": [
       "\\begin{enumerate*}\n",
       "\\item 1561\n",
       "\\item 1\n",
       "\\end{enumerate*}\n"
      ],
      "text/markdown": [
       "1. 1561\n",
       "2. 1\n",
       "\n",
       "\n"
      ],
      "text/plain": [
       "[1] 1561    1"
      ]
     },
     "metadata": {},
     "output_type": "display_data"
    },
    {
     "name": "stdout",
     "output_type": "stream",
     "text": [
      " Factor w/ 179 levels \"1\",\"2\",\"3\",\"4\",..: NA NA NA NA NA NA NA NA NA NA ...\n"
     ]
    },
    {
     "data": {
      "text/html": [
       "843"
      ],
      "text/latex": [
       "843"
      ],
      "text/markdown": [
       "843"
      ],
      "text/plain": [
       "[1] 843"
      ]
     },
     "metadata": {},
     "output_type": "display_data"
    }
   ],
   "source": [
    "final_clusters = pvpick(res.pv)$clusters\n",
    "cluster_labels = data.frame('cluster_number'=c())\n",
    "for (a_clust in 1:length(final_clusters)){\n",
    "    cluster_labels[final_clusters[[a_clust]], 'cluster_number'] = a_clust\n",
    "}\n",
    "unclustered = setdiff(colnames(tsv.data.x), rownames(cluster_labels))\n",
    "cluster_labels[unclustered, 'cluster_number'] <- NA\n",
    "dim(cluster_labels)\n",
    "not_detected = setdiff(rownames(cluster_labels), colnames(tsv.data))\n",
    "cluster_labels[not_detected, 'cluster_number'] <- NA\n",
    "cluster_labels[(!is.na(cluster_labels$cluster_number)), 'cluster_number'] = cluster_labels[(!is.na(cluster_labels$cluster_number)), 'cluster_number'] - 1\n",
    "\n",
    "cluster_labels$cluster_number <- factor(cluster_labels$cluster_number)\n",
    "\n",
    "str(cluster_labels$cluster_number)\n",
    "sum(is.na(cluster_labels$cluster_number))\n",
    "write.table(x = cluster_labels, \n",
    "            file = '/Volumes/KeithSSD/CB_V4/otu_data/otu_cluster_vector.txt', \n",
    "            row.names = T,\n",
    "            col.names = T, \n",
    "            sep = '\\t')\n"
   ]
  },
  {
   "cell_type": "code",
   "execution_count": 20,
   "metadata": {},
   "outputs": [
    {
     "data": {
      "text/html": [
       "714"
      ],
      "text/latex": [
       "714"
      ],
      "text/markdown": [
       "714"
      ],
      "text/plain": [
       "[1] 714"
      ]
     },
     "metadata": {},
     "output_type": "display_data"
    }
   ],
   "source": [
    "\n"
   ]
  },
  {
   "cell_type": "code",
   "execution_count": null,
   "metadata": {},
   "outputs": [],
   "source": [
    "level_medians = list()\n",
    "dist_by_level = list()\n",
    "taxa_levels = colnames(taxa_df)\n",
    "for (a_level in taxa_levels){\n",
    "    print(a_level)\n",
    "    sub_taxa = taxa_df[!is.na(taxa_df[,a_level]),]\n",
    "    sub_taxa2 = sub_taxa[sub_taxa[,a_level] %in% names(which(table(sub_taxa[,a_level]) > 1)), ]\n",
    "    print(c(dim(sub_taxa)[1], 'rows'))\n",
    "    avail_types = unique(sub_taxa2[,a_level])\n",
    "    print(c(length(avail_types), 'appear >1 times'))\n",
    "    dist_by_level[[a_level]] = vector(length=length(avail_types))\n",
    "    for (t_i in 1:length(avail_types)){\n",
    "        type_i = avail_types[t_i]\n",
    "        otus_i = rownames(sub_taxa2[which(sub_taxa2[,a_level] == type_i),])\n",
    "        sub_dist = phydf_full[otus_i, otus_i]\n",
    "        med_val = median(as.dist(sub_dist))\n",
    "        dist_by_level[[a_level]][t_i] = med_val\n",
    "    }\n",
    "    names(dist_by_level[[a_level]]) <- avail_types\n",
    "    level_medians[[a_level]] = median(dist_by_level[[a_level]])\n",
    "}\n",
    "print(unlist(level_medians))\n",
    "print(max(phydf_full))\n"
   ]
  },
  {
   "cell_type": "code",
   "execution_count": null,
   "metadata": {},
   "outputs": [],
   "source": [
    "# create simulated community\n",
    "sim.tsv <- permatswap(tsv.data, \"quasiswap\", times=10)$perm[[5]]"
   ]
  },
  {
   "cell_type": "code",
   "execution_count": null,
   "metadata": {},
   "outputs": [],
   "source": [
    "exp.eco.dist = vegdist(t(tsv.data), method='bray')\n",
    "exp.comm.dist = as.matrix(exp.eco.dist)\n",
    "\n",
    "sim.eco.dist = vegdist(t(sim.tsv), method=\"bray\")\n",
    "sim.comm.dist = as.matrix(sim.eco.dist)\n",
    "\n",
    "print(c(dim(exp.comm.dist), dim(sim.comm.dist)))"
   ]
  },
  {
   "cell_type": "code",
   "execution_count": null,
   "metadata": {},
   "outputs": [],
   "source": [
    "options(repr.plot.width=6, repr.plot.height=6)\n",
    "par(mar=c(4,7,4,1)+.1)\n",
    "\n",
    "boxplot(dist_by_level$Species, dist_by_level$Genus, dist_by_level$Family, \n",
    "        dist_by_level$Order, dist_by_level$Class, dist_by_level$Phylum,\n",
    "        dist_by_level$Kingdom,\n",
    "        main = \"Median Phylogenetic Distance in a Taxonomic Categories by Level\",\n",
    "    at = 0:6*2,\n",
    "    names = c(\"Species (n=1)\", \"Genus (n=164)\", \"Family (n=154)\", 'Order (n=121)', 'Class (n=133)',\n",
    "              \"Phylum (n=28)\", 'Kingdom (n=3)'),\n",
    "    las = 2,\n",
    "    horizontal = TRUE\n",
    ")"
   ]
  },
  {
   "cell_type": "code",
   "execution_count": null,
   "metadata": {},
   "outputs": [],
   "source": [
    "# create simulated correlogram\n",
    "\n",
    "exp_gram_f1 = \"../otu_data/dispersal_selection_data/exp_correlog2.RData\"\n",
    "our_breaks = c(0, 0.001, 0.005, 0.015, 0.025, 0.03, 0.04, 0.05, 0.06, 0.07, 0.09, 0.11, 0.13, 0.15, 0.17,\n",
    "               0.20, 0.22, 0.24, 0.26, 0.28, 0.30, 0.4, 0.5, 0.6, 0.7, 0.9, 1.1, 2.55, 4)\n",
    "\n",
    "\n",
    "if (file.exists(exp_gram_f1)) {\n",
    "    load(exp_gram_f1)\n",
    "    write(\"Located File 1\", stdout())\n",
    "} else {\n",
    "    exp.correlog = mantel.correlog(exp.comm.dist, D.geo=phydist, mult=\"BH\", \n",
    "                                    r.type=\"spearman\", cutoff = F,\n",
    "                                    nperm=1, break.pts=our_breaks)\n",
    "}"
   ]
  },
  {
   "cell_type": "code",
   "execution_count": null,
   "metadata": {},
   "outputs": [],
   "source": [
    "sim_gram_f1 = \"../otu_data/dispersal_selection_data/sim_correlog2.RData\"\n",
    "if (file.exists(sim_gram_f1)) {\n",
    "    load(sim_gram_f1)\n",
    "    write(\"Located File 2\", stdout())\n",
    "} else {\n",
    "    sim.correlog = mantel.correlog(sim.comm.dist, D.geo=phydist, mult=\"BH\", \n",
    "                                   r.type=\"spearman\", cutoff = F, nperm=1, \n",
    "                                   break.pts=our_breaks)\n",
    "}"
   ]
  },
  {
   "cell_type": "code",
   "execution_count": null,
   "metadata": {},
   "outputs": [],
   "source": [
    "t_level_med = unlist(level_medians)\n",
    "names(t_level_med) <- NULL\n",
    "t_level_med = sort(t_level_med)[1:6]\n",
    "correlog_real = data.frame(\"PhyDist\" = exp.correlog$mantel.res[,'class.index'],\n",
    "                           'MCorr' = exp.correlog$mantel.res[,'Mantel.cor'],\n",
    "                           'Correlation.Significant' = exp.correlog$mantel.res[,'Pr(corrected)'] < 0.05)\n",
    "\n",
    "correlog_null = data.frame(\"PhyDist\" = sim.correlog$mantel.res[,'class.index'],\n",
    "                           'MCorr' = sim.correlog$mantel.res[,'Mantel.cor'],\n",
    "                           'Correlation.Significant' = sim.correlog$mantel.res[,'Pr(corrected)'] < 0.05)\n",
    "\n",
    "correlog_data2 <- correlog_real %>%  mutate(modtype = 'Real') %>%\n",
    "                 bind_rows(correlog_null %>% mutate(modtype = 'Null.Model'))\n",
    "\n",
    "correlog_data3 = correlog_data2[!is.na(correlog_data2[,'MCorr']),]\n",
    "\n",
    "correlog_data3[is.na(correlog_data3[,'Correlation.Significant']), 'Correlation.Significant'] <- FALSE\n",
    "\n",
    "dim(correlog_data3)\n",
    "correlog_data3"
   ]
  },
  {
   "cell_type": "code",
   "execution_count": null,
   "metadata": {},
   "outputs": [],
   "source": [
    "options(repr.plot.width=6, repr.plot.height=4)\n",
    "annotation <- data.frame(\n",
    "   x = sort(t_level_med)-0.013,\n",
    "   y = c(-.031, -.034, -.031, -.034, -.031, -.034),\n",
    "   label = c(\"S\", \"G\", 'F', 'O', 'C', 'P'))\n",
    "\n",
    "annotation[c(2), 'x'] = annotation[c(2), 'x'] + .029\n",
    "annotation[c(5), 'x'] = annotation[c(5), 'x'] + .029\n",
    "\n",
    "lsize=0.5\n",
    "p = ggplot(data=correlog_data3, aes(y=MCorr, x=PhyDist, group=modtype, linetype=modtype, shape=modtype)) + \n",
    "           geom_point(aes(alpha = Correlation.Significant), size=1.6) +\n",
    "           scale_alpha_manual(values=c(0.4, 0.9)) +\n",
    "           geom_line(size=0.6) +\n",
    "           scale_linetype_manual(values=c('dotted', 'solid')) + \n",
    "           labs(x=\"Phylogenetic Distance\", y=\"Mantel Correlation\") + \n",
    "           coord_cartesian(xlim=c(-0.02,0.4), ylim=c(-0.035, 0.025)) +\n",
    "           geom_vline(xintercept = t_level_med[1], color = \"black\", linetype=\"dashed\", size=lsize) + \n",
    "           geom_vline(xintercept = t_level_med[2], color = \"black\", linetype=\"dashed\", size=lsize) + \n",
    "           geom_vline(xintercept = t_level_med[3], color = \"black\", linetype=\"dashed\", size=lsize) + \n",
    "           geom_vline(xintercept = t_level_med[4], color = \"black\", linetype=\"dashed\", size=lsize) + \n",
    "           geom_vline(xintercept = t_level_med[5], color = \"black\", linetype=\"dashed\", size=lsize) + \n",
    "           geom_vline(xintercept = t_level_med[6], color = \"black\", linetype=\"dashed\", size=lsize) + \n",
    "           geom_text(data=annotation, aes( x=x, y=y, label=label), color=\"black\", size=4, angle=0, inherit.aes = FALSE)"
   ]
  },
  {
   "cell_type": "code",
   "execution_count": null,
   "metadata": {},
   "outputs": [],
   "source": [
    "p"
   ]
  },
  {
   "cell_type": "code",
   "execution_count": null,
   "metadata": {},
   "outputs": [],
   "source": []
  }
 ],
 "metadata": {
  "kernelspec": {
   "display_name": "R",
   "language": "R",
   "name": "ir"
  },
  "language_info": {
   "codemirror_mode": "r",
   "file_extension": ".r",
   "mimetype": "text/x-r-source",
   "name": "R",
   "pygments_lexer": "r",
   "version": "3.5.1"
  }
 },
 "nbformat": 4,
 "nbformat_minor": 2
}
