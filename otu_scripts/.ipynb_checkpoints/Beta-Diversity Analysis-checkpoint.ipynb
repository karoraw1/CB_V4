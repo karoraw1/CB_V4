{
 "cells": [
  {
   "cell_type": "code",
   "execution_count": null,
   "metadata": {},
   "outputs": [],
   "source": [
    "library(FactoMineR)\n",
    "library(factoextra)\n",
    "library(corrplot)\n",
    "library(NbClust)\n",
    "library(cluster)\n",
    "library(ggplot2)\n",
    "library(reshape2)\n",
    "library(repr)"
   ]
  },
  {
   "cell_type": "code",
   "execution_count": null,
   "metadata": {},
   "outputs": [],
   "source": [
    "env_data_file = \"/Volumes/KeithSSD/CB_V4/otu_data/WaterQualityData/matched_cleaned_data/all_mdata_with_habitat.txt\"\n",
    "env_data <- read.delim(env_data_file, row.names=1)\n",
    "\n",
    "transect_data_f = \"../otu_data/WaterQualityData/matched_cleaned_data/transect_mdata_colset_1.tsv\"\n",
    "tran_df <- read.delim(transect_data_f, row.names=1)\n",
    "missing_columns = setdiff(colnames(tran_df), colnames(env_data))\n",
    "\n",
    "for (i in missing_columns){\n",
    "    env_data[,i] <- NA\n",
    "    env_data[rownames(tran_df),i] = tran_df[rownames(tran_df), i]\n",
    "}"
   ]
  },
  {
   "cell_type": "code",
   "execution_count": null,
   "metadata": {},
   "outputs": [],
   "source": [
    "fapro_fn = \"/Users/login/Google Drive/SiYi_Xiaotong_Materials/FAPROTAX_counts.txt\"\n",
    "fapro_df <- read.delim(fapro_fn, row.names=1)\n",
    "col_Sum <- apply(fapro_df, MARGIN=2, FUN=sum)\n",
    "fapro_set1 =  fapro_df[rownames(env_data), names(col_Var[col_Var != 0])]\n",
    "fapro_lset = fapro_set1\n",
    "for (i in 1:length(colnames(fapro_lset))){\n",
    "    fapro_lset[,colnames(fapro_lset)[i]] = log(fapro_lset[,colnames(fapro_lset)[i]] + 1)\n",
    "}"
   ]
  },
  {
   "cell_type": "code",
   "execution_count": null,
   "metadata": {},
   "outputs": [],
   "source": [
    "to_drop = c('methylotrophy', 'aerobic_ammonia_oxidation', 'sulfate_respiration',\n",
    "            'dark_sulfite_oxidation', 'arsenate_respiration', 'nitrite_ammonification',\n",
    "             'dissimilatory_arsenate_reduction', 'nitrite_denitrification', \n",
    "             'nitrous_oxide_denitrification', 'nitrate_denitrification', 'fumarate_respiration',\n",
    "             'mammal_gut', 'plant_pathogen',  'cyanobacteria', 'phototrophy', \n",
    "            'anoxygenic_photoautotrophy_S_oxidizing', 'anoxygenic_photoautotrophy_Fe_oxidizing',\n",
    "           'nitrate_respiration', 'aliphatic_non_methane_hydrocarbon_degradation', \n",
    "            'aerobic_chemoheterotrophy', 'nitrite_respiration')\n",
    "\n",
    "fapro_set2 = fapro_set1[,!(colnames(fapro_set1) %in% to_drop)]\n",
    "\n",
    "fapro_setl2 = fapro_lset[,!(colnames(fapro_set1) %in% to_drop)]\n",
    "\n",
    "print(dim(fapro_set2))\n",
    "\n",
    "for (var1 in 1:length(colnames(fapro_set2))){\n",
    "    var1n = colnames(fapro_set2)[var1]\n",
    "    for (var2 in var1:length(colnames(fapro_set2))){\n",
    "        var2n = colnames(fapro_set2)[var2]\n",
    "        this_cor = abs(cor(fapro_set2[,var1n], fapro_set2[,var2n]))\n",
    "        if ((this_cor > 0.95) & (var1 != var2 )) {\n",
    "            two_names = paste(colnames(fapro_set2)[var1], colnames(fapro_set2)[var2], sep=\" & \")\n",
    "            print(c(two_names, this_cor))\n",
    "        }\n",
    "    }\n",
    "}\n"
   ]
  },
  {
   "cell_type": "code",
   "execution_count": null,
   "metadata": {},
   "outputs": [],
   "source": [
    "options(repr.plot.width=6, repr.plot.height=6)\n",
    "res.pca <- PCA(fapro_setl2, graph = FALSE)\n",
    "fviz_eig(res.pca, addlabels = TRUE, ylim = c(0, 50))"
   ]
  },
  {
   "cell_type": "code",
   "execution_count": null,
   "metadata": {},
   "outputs": [],
   "source": [
    "variables_ <- get_pca_var(res.pca)\n",
    "for (i in 1:4){\n",
    "    subvar = sort(abs(variables_$coord[,c(i)]), decreasing = TRUE)\n",
    "    print(c(\"DIM\", i))\n",
    "    print(variables_$coord[names(subvar[1:40]),c(i)])\n",
    "}"
   ]
  },
  {
   "cell_type": "code",
   "execution_count": null,
   "metadata": {},
   "outputs": [],
   "source": [
    "fapro_scaled = scale(fapro_setl2)"
   ]
  },
  {
   "cell_type": "code",
   "execution_count": null,
   "metadata": {},
   "outputs": [],
   "source": [
    "selected = c(\"ratkowsky\", \"pseudot2\", \"duda\", \"kl\", \"ch\", \"hartigan\", \"ball\", \n",
    "             \"cindex\", \"db\", \"silhouette\", \"sdbw\", \"ptbiserial\", \"dindex\",\n",
    "             \"dunn\", \"sdindex\", \"mcclain\", \"frey\", \"hubert\")\n",
    "\n",
    "results = list()\n",
    "for (i in 1:length(selected)) {\n",
    "    print(selected[i])\n",
    "    results[[selected[i]]] <- try(NbClust(data=fapro_scaled, distance=\"euclidean\", min.nc=2, max.nc=15, method='ward.D2', index=selected[i]) )\n",
    "    print(results[[selected[i]]]$Best.nc['Number_clusters'])\n",
    "}\n",
    "\n"
   ]
  },
  {
   "cell_type": "code",
   "execution_count": null,
   "metadata": {},
   "outputs": [],
   "source": [
    "# Contributions of variables to PC1\n",
    "#fviz_contrib(res.pca, choice = \"var\", axes = 1, top = 20)\n",
    "# Contributions of variables to PC2\n",
    "#fviz_contrib(res.pca, choice = \"var\", axes = 2, top = 20)\n",
    "first_two_vars = c('photoautotrophy', 'hydrocarbon_degradation', 'anoxygenic_phototrophy', \n",
    "                   'respiration_of_sulfur_compounds', 'methanogenesis', 'sulfur_respiration',\n",
    "                   'fermentation', 'nitrogen_respiration', 'iron_respiration', 'chemoheterotrophy',\n",
    "                   'human_pathogens_all', 'denitrification', 'dark_sulfur_oxidation', 'chloroplasts',\n",
    "                   'photoheterotrophy')\n",
    "fviz_pca_var(res.pca, axes = c(1, 2), col.var = \"black\", select.var = list(name = first_two_vars), repel=TRUE )"
   ]
  },
  {
   "cell_type": "code",
   "execution_count": null,
   "metadata": {},
   "outputs": [],
   "source": [
    "fviz_pca_var(res.pca, axes = c(3, 4), col.var = \"black\")"
   ]
  },
  {
   "cell_type": "code",
   "execution_count": null,
   "metadata": {},
   "outputs": [],
   "source": [
    "pam.res <- pam(fapro_scaled, 3, diss=FALSE, metric='euclidean')\n",
    "fviz_pca_ind(res.pca,\n",
    "             geom.ind = \"point\", # show points only (nbut not \"text\")\n",
    "             col.ind = as.factor(pam.res$clustering), # color by groups\n",
    "             palette = c(\"#00AFBB\", \"#E7B800\", \"#FC4E07\"),\n",
    "             addEllipses = TRUE, ellipse.type = \"convex\",# Concentration ellipses\n",
    "             legend.title = \"Groups\")"
   ]
  },
  {
   "cell_type": "code",
   "execution_count": null,
   "metadata": {},
   "outputs": [],
   "source": [
    "library(glmnet)\n",
    "library(caret)\n",
    "\n",
    "#\n",
    "mean(abs(error))\n",
    "\n",
    "\n",
    "\n",
    "select_cols = c('Year', 'Month','Discharge_Susquehanna_14', 'day_length', 'Latitude', 'Depth', \n",
    "                'habitat', 'enspie', 'faith_pd', 'StationName', 'CollectionAgency', 'anti_day_length',\n",
    "                'Month_Year', 'WTEMP', 'SALINITY', 'DO', 'DOP', 'NO2F', 'PC', 'PHEO', 'NO3F', 'NH4F', \n",
    "                'TP', 'CHLA', 'TDN')\n",
    "\n",
    "scores_per_model = list()\n",
    "folds = 10\n",
    "\n",
    "score_matrix = data.frame(data=matrix(nrow=length(select_cols), ncol=folds), row.names=select_cols)\n",
    "scores_per_model['ridge'] = score_matrix\n",
    "scores_per_model['lasso'] = scores_per_model['ridge']\n",
    "scores_per_model['randomforest'] = scores_per_model['lasso']\n",
    "\n",
    "counter = 0\n",
    "for (a_col in select_cols){\n",
    "    for (fold in colnames(score_matrix)){\n",
    "        counter = counter + 1\n",
    "        set.seed(123*counter)\n",
    "        resp_vector = env_data[!is.na(env_data[,a_col]), a_col]\n",
    "        names(resp_vector) <- rownames(env_data)[!is.na(env_data[,a_col])]\n",
    "        pred_matrix = fapro_setl2[names(response_vector),]\n",
    "        pred_resp = cbind(pred_matrix, resp_vector)\n",
    "        colnames(pred_resp) <- c(colnames(pred_matrix), a_col)\n",
    "        \n",
    "        smp_size <- floor(0.75 * nrow(pred_resp))\n",
    "        train_ind <- sample(seq_len(nrow(pred_resp)), size = smp_size)\n",
    "        train_df <- pred_resp[train_ind, ]\n",
    "        test_df <- pred_resp[-train_ind, ]\n",
    "        \n",
    "        lambdas <- 10^seq(2, -3, by = -.1)\n",
    "        cv_ridge <- cv.glmnet(train_df[,colnames(fapro_setl2)], \n",
    "                              train_df[,a_col], alpha = 0, lambda = lambdas)\n",
    "        ridge_pred_test <- predict(cv_ridge, s = cv_ridge$lambda.min, \n",
    "                                   newx = test_df[,colnames(fapro_setl2)])\n",
    "        \n",
    "        lasso_reg <- cv.glmnet(train_df[,colnames(fapro_setl2)], train_df[,a_col],\n",
    "                               alpha = 1, lambda = lambdas, standardize = TRUE, nfolds = 5)\n",
    "        lasso_pred_test <- predict(lasso_reg, s = lasso_reg$lambda.min\n",
    "                                   newx = test_df[,colnames(fapro_setl2)])\n",
    "        \n",
    "        \n",
    "        control <- trainControl(method=\"repeatedcv\", number=5, repeats=1)\n",
    "        tunegrid <- expand.grid(.mtry=c(1:20))\n",
    "        fit <- train(x=train_df[,colnames(fapro_setl2)], y=train_df[,a_col], \n",
    "                     method=\"rf\", metric='RMSE', tuneGrid=tunegrid, trControl=control,\n",
    "                     ntree=1000)\n",
    "        opt_mtry = fit$results[max(fit$results[,c(2)]) == fit$results[,c(2)], c(1)]\n",
    "        rf_model = randomForest(x = train_df[,colnames(fapro_setl2)],\n",
    "                                y = train_df[,a_col],\n",
    "                                ntree = 1000, random_state = counter, mtry=opt_mtry)\n",
    "        rf_pred_test = predict(rf_model, newdata = test_df[,colnames(fapro_setl2)])\n",
    "\n",
    "        scores_per_model['ridge'][a_col, fold] = mean(abs(ridge_pred_test - test_df[,a_col]))\n",
    "        scores_per_model['lasso'][a_col, fold] = mean(abs(lasso_pred_test - test_df[,a_col]))\n",
    "        scores_per_model['randomforest'][a_col, fold] = mean(abs(rf_pred_test - test_df[,a_col]))\n",
    "    }\n",
    "}\n",
    "\n"
   ]
  },
  {
   "cell_type": "code",
   "execution_count": null,
   "metadata": {},
   "outputs": [],
   "source": [
    "library(vegan)\n"
   ]
  },
  {
   "cell_type": "code",
   "execution_count": null,
   "metadata": {},
   "outputs": [],
   "source": [
    "fapro_melt1 = melt(data = fapro_set1, id.vars = \"Sample\", measure.vars = rownames(fapro_set1))\n",
    "colnames(fapro_melt1) <- c('samp_name', 'fxn', 'rel_abund')\n",
    "p = ggplot(fapro_melt1, aes(fill=fxn, y=rel_abund, x=samp_name)) + geom_bar(position=\"stack\", stat=\"identity\")\n",
    "p <- p + theme(legend.position=\"bottom\")\n",
    "p <- p + guides(fill=guide_legend(nrow=5, byrow=TRUE))\n",
    "p"
   ]
  },
  {
   "cell_type": "code",
   "execution_count": null,
   "metadata": {},
   "outputs": [],
   "source": []
  },
  {
   "cell_type": "code",
   "execution_count": null,
   "metadata": {},
   "outputs": [],
   "source": [
    "# Stacked + percent\n",
    "ggplot(data, aes(fill=condition, y=value, x=specie)) + \n",
    "    geom_bar(position=\"fill\", stat=\"identity\")"
   ]
  },
  {
   "cell_type": "code",
   "execution_count": null,
   "metadata": {},
   "outputs": [],
   "source": [
    "\n"
   ]
  },
  {
   "cell_type": "code",
   "execution_count": null,
   "metadata": {},
   "outputs": [],
   "source": []
  }
 ],
 "metadata": {
  "kernelspec": {
   "display_name": "R",
   "language": "R",
   "name": "ir"
  },
  "language_info": {
   "codemirror_mode": "r",
   "file_extension": ".r",
   "mimetype": "text/x-r-source",
   "name": "R",
   "pygments_lexer": "r",
   "version": "3.5.1"
  }
 },
 "nbformat": 4,
 "nbformat_minor": 2
}
