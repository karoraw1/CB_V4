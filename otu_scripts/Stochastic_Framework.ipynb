{
 "cells": [
  {
   "cell_type": "code",
   "execution_count": null,
   "metadata": {},
   "outputs": [],
   "source": [
    "library(repr)\n",
    "options(repr.plot.width=4, repr.plot.height=4)"
   ]
  },
  {
   "cell_type": "markdown",
   "metadata": {},
   "source": [
    "### Raup Crick Distance via Bray Curtis: \n",
    "#### Resamples OTUs into a community to match observed richness, based on site occupancy distribution across the full data set and calculates bray curtis distance. The value is the proportion of runs where the distance is less than expected, scaled between -1,1. \n",
    "\n",
    "### Mean nearest taxon distance (MNTD): \n",
    "#### The mean distance between each species in community A and its closest relative in community B across 999 resampling trials\n",
    "#### Called Nearest Taxon Index (MNTI), when standardized (i.e. z-value) \n",
    "\n",
    "### Mean pairwise distance (MPD): \n",
    "#### The mean distance between all pairs of species in community A and community B across in 999 resampling trials\n",
    "#### Called Net Relatedness Index (MNRI), when standardized (i.e. z-value) \n"
   ]
  },
  {
   "cell_type": "code",
   "execution_count": null,
   "metadata": {},
   "outputs": [],
   "source": [
    "row_reference = \"../otu_data/WaterQualityData/matched_cleaned_data/all_mdata_colset_2.tsv\"\n",
    "included_samples <- read.delim(row_reference, row.names=1)\n",
    "incl_samps = rownames(included_samples)\n",
    "stoch_df <-data.frame(matrix(nrow=sum((dim(included_samples)[1]-1):1), ncol=5))\n",
    "names(stoch_df)<-c(\"Com1\", \"Com2\", 'BNTI', 'RC', 'Outcome')\n",
    "print(dim(stoch_df))\n",
    "\n",
    "row_counter=0\n",
    "for (i in 1:length(incl_samps)){\n",
    "    for (j in i:length(incl_samps)){\n",
    "        if (i != j ){\n",
    "            row_counter = row_counter + 1\n",
    "            stoch_df[row_counter, 'Com1'] <- incl_samps[i]\n",
    "            stoch_df[row_counter, 'Com2'] <- incl_samps[j]\n",
    "        }\n",
    "    }\n",
    "}\n",
    "\n",
    "print(row_counter)\n",
    "print(head(stoch_df))"
   ]
  },
  {
   "cell_type": "code",
   "execution_count": null,
   "metadata": {},
   "outputs": [],
   "source": [
    "nti_fn = \"../otu_data/dispersal_selection_data/ses_nti.RData\"\n",
    "load(nti_fn)\n",
    "bnti_df = mntd_scores$comdistnt.obs.z[incl_samps, incl_samps]\n",
    "bnti_dist = as.dist(bnti_df)\n",
    "\n",
    "options(repr.plot.width=6, repr.plot.height=3)\n",
    "h <- hist(bnti_dist)\n",
    "abline(v = 2, col=\"red\", lwd=2, lty=2)\n",
    "abline(v = -2, col=\"red\", lwd=2, lty=2)\n",
    "\n",
    "for (row in 1:dim(stoch_df)[1]){\n",
    "    stoch_df[row, 'BNTI'] = bnti_df[stoch_df[row, 'Com1'], stoch_df[row, 'Com2']]\n",
    "}\n",
    "\n",
    "print(sum(is.na(stoch_df[,'BNTI'])))"
   ]
  },
  {
   "cell_type": "code",
   "execution_count": null,
   "metadata": {},
   "outputs": [],
   "source": [
    "rc_fn = \"../otu_data/dispersal_selection_data/raup_crick_data.tsv\"\n",
    "rc_df <- read.delim(rc_fn, row.names=1)[rownames(included_samples), rownames(included_samples)]\n",
    "rc_df2 = rc_df\n",
    "rc_df2[is.na(rc_df2)] <- 0\n",
    "\n",
    "rc_dft = t(rc_df)\n",
    "rc_dft2 = rc_dft\n",
    "rc_dft2[is.na(rc_dft2)] <- 0\n",
    "\n",
    "rc_sym = as.matrix(rc_df2 + rc_dft2)\n",
    "for (i in 1:dim(rc_df)[1]){ \n",
    "    rc_sym[i,i] <- rc_df[i,i]\n",
    "}\n",
    "\n",
    "rc_dist = as.dist(rc_sym)\n",
    "print(sum(rc_dist > 1))\n",
    "rc_dist[rc_dist > 1] <- 1\n",
    "\n",
    "options(repr.plot.width=6, repr.plot.height=3)\n",
    "h <- hist(rc_dist, breaks=-1:41/20 - 1)\n",
    "abline(v = 0.95, col=\"red\", lwd=2, lty=2)\n",
    "abline(v = -0.95, col=\"red\", lwd=2, lty=2)\n",
    "\n",
    "for (row in 1:dim(stoch_df)[1]){\n",
    "    stoch_df[row, 'RC'] = rc_sym[stoch_df[row, 'Com1'], stoch_df[row, 'Com2']]\n",
    "}\n",
    "\n",
    "print(sum(is.na(stoch_df[,'RC'])))"
   ]
  },
  {
   "cell_type": "code",
   "execution_count": null,
   "metadata": {},
   "outputs": [],
   "source": [
    "print(c('Number of pairwise comparisons:', dim(stoch_df)[1]))\n",
    "print(c(\"\"))\n",
    "print(c('Deterministic via phylogeny:', round(sum(abs(stoch_df$BNTI) > 2)/dim(stoch_df)[1],3)*100 ))\n",
    "print(c('-> Undergoing hetero. selection:', round(sum(stoch_df$BNTI > 2)/dim(stoch_df)[1],3)*100 ))\n",
    "\n",
    "heter_disp = (stoch_df$BNTI > 2) & (stoch_df$RC > 0.95)\n",
    "print(c('--> Heterog. dispersal:', round(sum(heter_disp)/dim(stoch_df)[1],3)*100 ))\n",
    "\n",
    "print(c('-> Undergoing homo. selection:', round(sum(stoch_df$BNTI < -2)/dim(stoch_df)[1],3)*100 ))\n",
    "\n",
    "homo_disp = (stoch_df$BNTI < -2) & (stoch_df$RC > 0.95)\n",
    "print(c('--> Homog. dispersal:', round(sum(homo_disp)/dim(stoch_df)[1],3)*100 ))\n",
    "\n",
    "print(c(\"\"))\n",
    "stoch_frac = (abs(stoch_df$BNTI) < 2)\n",
    "print(c('Stochastic via phylogeny:', round(sum(stoch_frac)/dim(stoch_df)[1],3)*100 ))\n",
    "\n",
    "disp_frac = (abs(stoch_df$BNTI) < 2) & (abs(stoch_df$RC) > 0.95)\n",
    "print(c('-> Influenced by dispersal:', round(sum(disp_frac)/dim(stoch_df)[1],3)*100 ))\n",
    "\n",
    "homo_frac = (abs(stoch_df$BNTI) < 2) & (stoch_df$RC < -0.95)\n",
    "print(c('--> High dispersal:', round(sum(homo_frac)/dim(stoch_df)[1],3)*100 ))\n",
    "\n",
    "ltd_frac = (abs(stoch_df$BNTI) < 2) & (stoch_df$RC > 0.95)\n",
    "print(c('--> Low dispersal:', round(sum(ltd_frac)/dim(stoch_df)[1],3)*100 ))\n",
    "\n",
    "und_frac = (abs(stoch_df$BNTI) < 2) & (abs(stoch_df$RC) < 0.95)\n",
    "print(c('-> Undominated:', round(sum(und_frac)/dim(stoch_df)[1],3)*100 ))\n",
    "\n",
    "\n"
   ]
  },
  {
   "cell_type": "code",
   "execution_count": null,
   "metadata": {},
   "outputs": [],
   "source": [
    "# A comparison of deviations between this an BNTI would reveal instances where one sample represents essentially a subgroup of another \n",
    "#nri_fn = \"../otu_data/dispersal_selection_data/ses_mpd.RData\"\n",
    "#nri_df <- read.delim(nri_fn, row.names=1)"
   ]
  },
  {
   "cell_type": "code",
   "execution_count": null,
   "metadata": {},
   "outputs": [],
   "source": []
  }
 ],
 "metadata": {
  "kernelspec": {
   "display_name": "R",
   "language": "R",
   "name": "ir"
  },
  "language_info": {
   "codemirror_mode": "r",
   "file_extension": ".r",
   "mimetype": "text/x-r-source",
   "name": "R",
   "pygments_lexer": "r",
   "version": "3.5.1"
  }
 },
 "nbformat": 4,
 "nbformat_minor": 2
}
