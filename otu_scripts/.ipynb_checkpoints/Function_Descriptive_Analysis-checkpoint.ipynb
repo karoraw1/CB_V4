{
 "cells": [
  {
   "cell_type": "code",
   "execution_count": null,
   "metadata": {},
   "outputs": [],
   "source": [
    "library(FactoMineR)\n",
    "library(factoextra)\n",
    "library(corrplot)\n",
    "library(NbClust)\n",
    "library(cluster)\n",
    "library(ggplot2)\n",
    "library(reshape2)"
   ]
  },
  {
   "cell_type": "code",
   "execution_count": null,
   "metadata": {},
   "outputs": [],
   "source": [
    "fapro_fn = \"/Users/login/Google Drive/SiYi_Xiaotong_Materials/FAPROTAX_counts.txt\"\n",
    "fapro_df <- read.delim(fapro_fn, row.names=1)\n",
    "col_Sum <- apply(fapro_df, MARGIN=2, FUN=sum)\n",
    "fapro_set1 =  fapro_df[rownames(env_data), names(col_Sum[col_Sum != 0])]\n",
    "fapro_lset = fapro_set1\n",
    "for (i in 1:length(colnames(fapro_lset))){\n",
    "    fapro_lset[,colnames(fapro_lset)[i]] = log(fapro_lset[,colnames(fapro_lset)[i]] + 1)\n",
    "}"
   ]
  },
  {
   "cell_type": "code",
   "execution_count": null,
   "metadata": {},
   "outputs": [],
   "source": [
    "to_drop = c('methylotrophy', 'aerobic_ammonia_oxidation', 'sulfate_respiration',\n",
    "            'dark_sulfite_oxidation', 'arsenate_respiration', 'nitrite_ammonification',\n",
    "             'dissimilatory_arsenate_reduction', 'nitrite_denitrification', \n",
    "             'nitrous_oxide_denitrification', 'nitrate_denitrification', 'fumarate_respiration',\n",
    "             'mammal_gut', 'plant_pathogen',  'cyanobacteria', 'phototrophy', \n",
    "            'anoxygenic_photoautotrophy_S_oxidizing', 'anoxygenic_photoautotrophy_Fe_oxidizing',\n",
    "             'nitrate_respiration', \n",
    "            'aliphatic_non_methane_hydrocarbon_degradation', \n",
    "            'aerobic_chemoheterotrophy', 'nitrite_respiration', 'dark_sulfide_oxidation')\n",
    "\n",
    "\n",
    "fapro_set2 = fapro_set1 #[,!(colnames(fapro_set1) %in% to_drop)]\n",
    "\n",
    "fapro_setl2 = fapro_lset[,!(colnames(fapro_set1) %in% to_drop)]\n",
    "\n",
    "print(dim(fapro_set2))\n",
    "\n",
    "for (var1 in 1:length(colnames(fapro_set2))){\n",
    "    var1n = colnames(fapro_set2)[var1]\n",
    "    for (var2 in var1:length(colnames(fapro_set2))){\n",
    "        var2n = colnames(fapro_set2)[var2]\n",
    "        this_cor = abs(cor(fapro_set2[,var1n], fapro_set2[,var2n]))\n",
    "        if ((this_cor > 0.93) & (var1 != var2 )) {\n",
    "            two_names = paste(colnames(fapro_set2)[var1], colnames(fapro_set2)[var2], sep=\" & \")\n",
    "            print(c(two_names, this_cor))\n",
    "        }\n",
    "    }\n",
    "}\n"
   ]
  },
  {
   "cell_type": "code",
   "execution_count": null,
   "metadata": {},
   "outputs": [],
   "source": [
    "options(repr.plot.width=6, repr.plot.height=6)\n",
    "res.pca <- PCA(fapro_setl2, graph = FALSE)\n",
    "fviz_eig(res.pca, addlabels = TRUE, ylim = c(0, 50)) "
   ]
  },
  {
   "cell_type": "code",
   "execution_count": null,
   "metadata": {},
   "outputs": [],
   "source": [
    "variables_ <- get_pca_var(res.pca)\n",
    "for (i in 1:4){\n",
    "    subvar = sort(abs(variables_$coord[,c(i)]), decreasing = TRUE)\n",
    "    print(c(\"DIM\", i))\n",
    "    print(variables_$coord[names(subvar[1:40]),c(i)])\n",
    "}"
   ]
  },
  {
   "cell_type": "code",
   "execution_count": null,
   "metadata": {},
   "outputs": [],
   "source": [
    "fapro_scaled = scale(fapro_setl2)\n",
    "selected = c(\"ratkowsky\", \"pseudot2\", \"duda\", \"kl\", \"ch\", \"hartigan\", \"ball\", \n",
    "             \"cindex\", \"db\", \"silhouette\", \"sdbw\", \"ptbiserial\", \"dindex\",\n",
    "             \"dunn\", \"sdindex\", \"mcclain\", \"frey\", \"hubert\")\n",
    "\n",
    "results = list()\n",
    "for (i in 1:length(selected)) {\n",
    "    print(selected[i])\n",
    "    results[[selected[i]]] <- try(NbClust(data=fapro_scaled, distance=\"euclidean\", min.nc=2, max.nc=15, method='ward.D2', index=selected[i]) )\n",
    "    print(results[[selected[i]]]$Best.nc['Number_clusters'])\n",
    "}"
   ]
  },
  {
   "cell_type": "code",
   "execution_count": null,
   "metadata": {},
   "outputs": [],
   "source": [
    "# Contributions of variables to PC1\n",
    "# Contributions of variables to PC2\n",
    "#fviz_contrib(res.pca, choice = \"var\", axes = 1, top = 20)\n",
    "#fviz_contrib(res.pca, choice = \"var\", axes = 2, top = 20)\n",
    "first_two_vars = c('photoautotrophy', 'hydrocarbon_degradation', 'anoxygenic_phototrophy', \n",
    "                   'respiration_of_sulfur_compounds', 'methanogenesis', 'sulfur_respiration',\n",
    "                   'fermentation', 'nitrogen_respiration', 'iron_respiration', 'chemoheterotrophy',\n",
    "                   'human_pathogens_all', 'denitrification', 'dark_sulfur_oxidation', 'chloroplasts',\n",
    "                   'photoheterotrophy')\n",
    "fviz_pca_var(res.pca, axes = c(1, 2), col.var = \"black\", select.var = list(name = first_two_vars), repel=TRUE )"
   ]
  },
  {
   "cell_type": "code",
   "execution_count": null,
   "metadata": {},
   "outputs": [],
   "source": [
    "next_two_cols = c('dark_thiosulfate_oxidation', 'human_pathogens_all', 'nitrogen_fixation', 'animal_parasites_or_symbionts',\n",
    "                  'manganese_oxidation', 'dark_oxidation_of_sulfur_compounds', 'chemoheterotrophy', 'oxygenic_photoautotrophy')\n",
    "fviz_pca_var(res.pca, axes = c(3, 4), col.var = \"black\", , select.var = list(name = next_two_cols))"
   ]
  },
  {
   "cell_type": "code",
   "execution_count": null,
   "metadata": {},
   "outputs": [],
   "source": [
    "pam.res <- pam(fapro_scaled, 3, diss=FALSE, metric='euclidean')\n",
    "fviz_pca_ind(res.pca,\n",
    "             geom.ind = \"point\", # show points only (nbut not \"text\")\n",
    "             col.ind = as.factor(pam.res$clustering), # color by groups\n",
    "             palette = c(\"#00AFBB\", \"#E7B800\", \"#FC4E07\"),\n",
    "             addEllipses = TRUE, ellipse.type = \"convex\",# Concentration ellipses\n",
    "             legend.title = \"Groups\")"
   ]
  }
 ],
 "metadata": {
  "kernelspec": {
   "display_name": "R",
   "language": "R",
   "name": "ir"
  },
  "language_info": {
   "codemirror_mode": "r",
   "file_extension": ".r",
   "mimetype": "text/x-r-source",
   "name": "R",
   "pygments_lexer": "r",
   "version": "3.5.1"
  }
 },
 "nbformat": 4,
 "nbformat_minor": 2
}
